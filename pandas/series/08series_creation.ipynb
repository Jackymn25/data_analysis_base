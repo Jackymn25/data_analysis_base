{
 "cells": [
  {
   "metadata": {},
   "cell_type": "markdown",
   "source": "# Creation of pd series",
   "id": "80daabd86360af61"
  },
  {
   "metadata": {
    "ExecuteTime": {
     "end_time": "2025-10-27T20:12:24.033339Z",
     "start_time": "2025-10-27T20:12:24.029267Z"
    }
   },
   "cell_type": "code",
   "source": [
    "import pandas as pd\n",
    "s = pd.Series([1, 2, 3, 4 ,5])\n",
    "print(s)\n",
    "\n",
    "# customize index\n",
    "s = pd.Series([1, 2, 3, 4 ,5], index=['a', 2, 3, 4, 5], name = 'first')\n",
    "print(s)"
   ],
   "id": "294ed2749b4163b2",
   "outputs": [
    {
     "name": "stdout",
     "output_type": "stream",
     "text": [
      "0    1\n",
      "1    2\n",
      "2    3\n",
      "3    4\n",
      "4    5\n",
      "dtype: int64\n",
      "a    1\n",
      "2    2\n",
      "3    3\n",
      "4    4\n",
      "5    5\n",
      "Name: first, dtype: int64\n"
     ]
    }
   ],
   "execution_count": 6
  },
  {
   "metadata": {
    "ExecuteTime": {
     "end_time": "2025-10-27T20:15:08.248997Z",
     "start_time": "2025-10-27T20:15:08.244228Z"
    }
   },
   "cell_type": "code",
   "source": [
    "# through py dict\n",
    "s = pd.Series({\"a\" : 1, \"b\" : 2})\n",
    "print(s)\n",
    "s1 = pd.Series(s, index = [\"a\", 'c'])\n",
    "print(s1)"
   ],
   "id": "ddf8469bb56f013c",
   "outputs": [
    {
     "name": "stdout",
     "output_type": "stream",
     "text": [
      "a    1\n",
      "b    2\n",
      "dtype: int64\n",
      "a    1.0\n",
      "c    NaN\n",
      "dtype: float64\n"
     ]
    }
   ],
   "execution_count": 14
  }
 ],
 "metadata": {
  "kernelspec": {
   "display_name": "Python 3",
   "language": "python",
   "name": "python3"
  },
  "language_info": {
   "codemirror_mode": {
    "name": "ipython",
    "version": 2
   },
   "file_extension": ".py",
   "mimetype": "text/x-python",
   "name": "python",
   "nbconvert_exporter": "python",
   "pygments_lexer": "ipython2",
   "version": "2.7.6"
  }
 },
 "nbformat": 4,
 "nbformat_minor": 5
}
