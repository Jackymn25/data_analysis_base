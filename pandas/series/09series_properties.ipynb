{
 "cells": [
  {
   "metadata": {},
   "cell_type": "markdown",
   "source": "# Series Properties",
   "id": "933f41296a5acd3a"
  },
  {
   "metadata": {
    "ExecuteTime": {
     "end_time": "2025-10-27T20:21:09.400392Z",
     "start_time": "2025-10-27T20:21:09.395343Z"
    }
   },
   "cell_type": "code",
   "source": [
    "import pandas as pd\n",
    "\n",
    "s = pd.Series([1, 2, 3, 4, 5], name = 'test')\n",
    "print(s)\n",
    "\n",
    "print(s.index)\n",
    "print(s.values)\n",
    "print(s.ndim)\n",
    "print(s.shape)\n",
    "print(s.size)\n",
    "print(s.dtype)\n",
    "print(s.name)"
   ],
   "id": "b6da29229de4e5c5",
   "outputs": [
    {
     "name": "stdout",
     "output_type": "stream",
     "text": [
      "0    1\n",
      "1    2\n",
      "2    3\n",
      "3    4\n",
      "4    5\n",
      "Name: test, dtype: int64\n",
      "RangeIndex(start=0, stop=5, step=1)\n",
      "[1 2 3 4 5]\n",
      "1\n",
      "(5,)\n",
      "5\n",
      "int64\n",
      "test\n",
      "a    1\n",
      "b    2\n",
      "c    3\n",
      "dtype: int64\n",
      "Index(['a', 'b', 'c'], dtype='object')\n",
      "[1 2 3]\n"
     ]
    }
   ],
   "execution_count": 7
  },
  {
   "metadata": {
    "ExecuteTime": {
     "end_time": "2025-10-27T20:28:06.971647Z",
     "start_time": "2025-10-27T20:28:06.967082Z"
    }
   },
   "cell_type": "code",
   "source": [
    "s1 = pd.Series({'a' : 1, 'b' : 2, 'c' : 3}, name = 'ex2')\n",
    "print(s1)\n",
    "\n",
    "print(s1.index)\n",
    "print(s1.values)\n",
    "\n",
    "# loc iloc at iat\n",
    "print(s1.loc['a'])\n",
    "print(s1.iloc[0])\n",
    "print(s1.at[\"a\"])\n",
    "print(s1.iat[1])"
   ],
   "id": "f6e0c846460b0cfc",
   "outputs": [
    {
     "name": "stdout",
     "output_type": "stream",
     "text": [
      "a    1\n",
      "b    2\n",
      "c    3\n",
      "Name: ex2, dtype: int64\n",
      "Index(['a', 'b', 'c'], dtype='object')\n",
      "[1 2 3]\n",
      "1\n",
      "1\n",
      "1\n",
      "2\n"
     ]
    }
   ],
   "execution_count": 11
  }
 ],
 "metadata": {
  "kernelspec": {
   "display_name": "Python 3",
   "language": "python",
   "name": "python3"
  },
  "language_info": {
   "codemirror_mode": {
    "name": "ipython",
    "version": 2
   },
   "file_extension": ".py",
   "mimetype": "text/x-python",
   "name": "python",
   "nbconvert_exporter": "python",
   "pygments_lexer": "ipython2",
   "version": "2.7.6"
  }
 },
 "nbformat": 4,
 "nbformat_minor": 5
}
