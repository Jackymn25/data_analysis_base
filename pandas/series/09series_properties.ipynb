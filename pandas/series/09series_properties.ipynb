{
 "cells": [
  {
   "metadata": {},
   "cell_type": "markdown",
   "source": "# Series Properties",
   "id": "933f41296a5acd3a"
  },
  {
   "metadata": {
    "ExecuteTime": {
     "end_time": "2025-10-28T00:50:24.557142Z",
     "start_time": "2025-10-28T00:50:24.553229Z"
    }
   },
   "cell_type": "code",
   "source": [
    "import pandas as pd\n",
    "\n",
    "s = pd.Series([1, 2, 3, 4, 5], name = 'test')\n",
    "print(s)\n",
    "\n",
    "print(s.index)\n",
    "print(s.values)\n",
    "print(s.ndim)\n",
    "print(s.shape)\n",
    "print(s.size)\n",
    "print(s.dtype)\n",
    "print(s.name)"
   ],
   "id": "b6da29229de4e5c5",
   "outputs": [
    {
     "name": "stdout",
     "output_type": "stream",
     "text": [
      "0    1\n",
      "1    2\n",
      "2    3\n",
      "3    4\n",
      "4    5\n",
      "Name: test, dtype: int64\n",
      "RangeIndex(start=0, stop=5, step=1)\n",
      "[1 2 3 4 5]\n",
      "1\n",
      "(5,)\n",
      "5\n",
      "int64\n",
      "test\n"
     ]
    }
   ],
   "execution_count": 12
  },
  {
   "metadata": {
    "ExecuteTime": {
     "end_time": "2025-10-27T20:28:06.971647Z",
     "start_time": "2025-10-27T20:28:06.967082Z"
    }
   },
   "cell_type": "code",
   "source": [
    "s1 = pd.Series({'a' : 1, 'b' : 2, 'c' : 3}, name = 'ex2')\n",
    "print(s1)\n",
    "\n",
    "print(s1.index)\n",
    "print(s1.values)\n",
    "\n",
    "# loc iloc at iat\n",
    "\n",
    "# support slicing ....\n",
    "print(s1.loc['a'])\n",
    "print(s1.iloc[0])\n",
    "\n",
    "# faster for single element indexing\n",
    "print(s1.at[\"a\"])\n",
    "print(s1.iat[1])"
   ],
   "id": "f6e0c846460b0cfc",
   "outputs": [
    {
     "name": "stdout",
     "output_type": "stream",
     "text": [
      "a    1\n",
      "b    2\n",
      "c    3\n",
      "Name: ex2, dtype: int64\n",
      "Index(['a', 'b', 'c'], dtype='object')\n",
      "[1 2 3]\n",
      "1\n",
      "1\n",
      "1\n",
      "2\n"
     ]
    }
   ],
   "execution_count": 11
  },
  {
   "metadata": {},
   "cell_type": "markdown",
   "source": "# Access Data",
   "id": "1e213064fa671b8f"
  },
  {
   "metadata": {
    "ExecuteTime": {
     "end_time": "2025-10-28T00:54:10.494315Z",
     "start_time": "2025-10-28T00:54:10.491065Z"
    }
   },
   "cell_type": "code",
   "source": [
    "\n",
    "print(s1['a']) # 'a' is okay but 1 is not okay , because 1 might be lable name or index\n",
    "print(s1[s1<3])\n",
    "# similar as R\n",
    "print(s1.head(2))\n",
    "print(s1.tail(2))"
   ],
   "id": "e650148f432192b2",
   "outputs": [
    {
     "name": "stdout",
     "output_type": "stream",
     "text": [
      "1\n",
      "a    1\n",
      "b    2\n",
      "Name: ex2, dtype: int64\n",
      "a    1\n",
      "b    2\n",
      "Name: ex2, dtype: int64\n",
      "b    2\n",
      "c    3\n",
      "Name: ex2, dtype: int64\n"
     ]
    }
   ],
   "execution_count": 17
  },
  {
   "metadata": {},
   "cell_type": "markdown",
   "source": "# Utils",
   "id": "f125f434b353b5c4"
  },
  {
   "metadata": {
    "ExecuteTime": {
     "end_time": "2025-10-28T00:58:23.574575Z",
     "start_time": "2025-10-28T00:58:23.571094Z"
    }
   },
   "cell_type": "code",
   "source": [
    "import numpy as np\n",
    "s = pd.Series([10, 2, np.nan, None, 4, 5, 6], index = [\"A\", 'B','C', 'D', 'E', 'F', 'G'], name = 'Data')\n",
    "print(s)"
   ],
   "id": "4ab30261e860be2d",
   "outputs": [
    {
     "name": "stdout",
     "output_type": "stream",
     "text": [
      "A    10.0\n",
      "B     2.0\n",
      "C     NaN\n",
      "D     NaN\n",
      "E     4.0\n",
      "F     5.0\n",
      "G     6.0\n",
      "Name: Data, dtype: float64\n"
     ]
    }
   ],
   "execution_count": 22
  },
  {
   "metadata": {
    "ExecuteTime": {
     "end_time": "2025-10-28T00:58:35.621097Z",
     "start_time": "2025-10-28T00:58:35.617419Z"
    }
   },
   "cell_type": "code",
   "source": [
    "print(s.head(3))\n",
    "print(s.tail()) # default : 5 lines"
   ],
   "id": "1fe30c2bedae7231",
   "outputs": [
    {
     "name": "stdout",
     "output_type": "stream",
     "text": [
      "A    10.0\n",
      "B     2.0\n",
      "C     NaN\n",
      "Name: Data, dtype: float64\n",
      "C    NaN\n",
      "D    NaN\n",
      "E    4.0\n",
      "F    5.0\n",
      "G    6.0\n",
      "Name: Data, dtype: float64\n"
     ]
    }
   ],
   "execution_count": 24
  },
  {
   "metadata": {
    "ExecuteTime": {
     "end_time": "2025-10-28T00:59:34.696977Z",
     "start_time": "2025-10-28T00:59:34.686166Z"
    }
   },
   "cell_type": "code",
   "source": "s.describe() # count does not count None or np.nan",
   "id": "49ba040a5f3ebf08",
   "outputs": [
    {
     "data": {
      "text/plain": [
       "count     5.000000\n",
       "mean      5.400000\n",
       "std       2.966479\n",
       "min       2.000000\n",
       "25%       4.000000\n",
       "50%       5.000000\n",
       "75%       6.000000\n",
       "max      10.000000\n",
       "Name: Data, dtype: float64"
      ]
     },
     "execution_count": 25,
     "metadata": {},
     "output_type": "execute_result"
    }
   ],
   "execution_count": 25
  },
  {
   "metadata": {
    "ExecuteTime": {
     "end_time": "2025-10-28T01:01:59.308626Z",
     "start_time": "2025-10-28T01:01:59.305489Z"
    }
   },
   "cell_type": "code",
   "source": [
    "print(s.count()) # no na none\n",
    "print(s.size) # elements"
   ],
   "id": "86091e4a248f16b2",
   "outputs": [
    {
     "name": "stdout",
     "output_type": "stream",
     "text": [
      "5\n",
      "7\n"
     ]
    }
   ],
   "execution_count": 41
  },
  {
   "metadata": {
    "ExecuteTime": {
     "end_time": "2025-10-28T01:02:54.622374Z",
     "start_time": "2025-10-28T01:02:54.619183Z"
    }
   },
   "cell_type": "code",
   "source": [
    "# keys\n",
    "print(s.keys())\n",
    "print(s.index)"
   ],
   "id": "e6e87262669878d3",
   "outputs": [
    {
     "name": "stdout",
     "output_type": "stream",
     "text": [
      "Index(['A', 'B', 'C', 'D', 'E', 'F', 'G'], dtype='object')\n",
      "Index(['A', 'B', 'C', 'D', 'E', 'F', 'G'], dtype='object')\n"
     ]
    }
   ],
   "execution_count": 42
  },
  {
   "metadata": {
    "ExecuteTime": {
     "end_time": "2025-10-28T01:03:25.750592Z",
     "start_time": "2025-10-28T01:03:25.746930Z"
    }
   },
   "cell_type": "code",
   "source": [
    "# missing value\n",
    "print(s.isna())"
   ],
   "id": "be79056dde5bcd59",
   "outputs": [
    {
     "name": "stdout",
     "output_type": "stream",
     "text": [
      "A    False\n",
      "B    False\n",
      "C     True\n",
      "D     True\n",
      "E    False\n",
      "F    False\n",
      "G    False\n",
      "Name: Data, dtype: bool\n"
     ]
    }
   ],
   "execution_count": 43
  },
  {
   "metadata": {
    "ExecuteTime": {
     "end_time": "2025-10-28T01:04:19.519719Z",
     "start_time": "2025-10-28T01:04:19.512748Z"
    }
   },
   "cell_type": "code",
   "source": [
    "# 'in' or not\n",
    "s.isin([4]) # must be list - like"
   ],
   "id": "70dd28b7e7e5f5a0",
   "outputs": [
    {
     "data": {
      "text/plain": [
       "A    False\n",
       "B    False\n",
       "C    False\n",
       "D    False\n",
       "E     True\n",
       "F    False\n",
       "G    False\n",
       "Name: Data, dtype: bool"
      ]
     },
     "execution_count": 45,
     "metadata": {},
     "output_type": "execute_result"
    }
   ],
   "execution_count": 45
  },
  {
   "metadata": {
    "ExecuteTime": {
     "end_time": "2025-10-28T01:09:50.282691Z",
     "start_time": "2025-10-28T01:09:50.277803Z"
    }
   },
   "cell_type": "code",
   "source": [
    " # stats functions\n",
    "print(s.mean(), s.std(), s.var(), s.max(), s.min(), s.sum(), sep='\\n')\n",
    "print(\"\\n sep \\n\")\n",
    "print(s.median())\n",
    "print(s.quantile(.25))\n",
    "print(s.mode()) # every value show one time so all are mode"
   ],
   "id": "4c382c473a9a51d3",
   "outputs": [
    {
     "name": "stdout",
     "output_type": "stream",
     "text": [
      "5.4\n",
      "2.9664793948382653\n",
      "8.8\n",
      "10.0\n",
      "2.0\n",
      "27.0\n",
      "\n",
      " sep \n",
      "\n",
      "5.0\n",
      "4.0\n",
      "0     2.0\n",
      "1     4.0\n",
      "2     5.0\n",
      "3     6.0\n",
      "4    10.0\n",
      "Name: Data, dtype: float64\n"
     ]
    }
   ],
   "execution_count": 57
  },
  {
   "metadata": {
    "ExecuteTime": {
     "end_time": "2025-10-28T01:12:01.238646Z",
     "start_time": "2025-10-28T01:12:01.235019Z"
    }
   },
   "cell_type": "code",
   "source": [
    "s = pd.Series([1, 2, 3, 4, 5, 5, 5, 5, np.nan, None, np.nan])\n",
    "print(s.values)\n",
    "print(s.value_counts())"
   ],
   "id": "cbe8ecc2740a84af",
   "outputs": [
    {
     "name": "stdout",
     "output_type": "stream",
     "text": [
      "[ 1.  2.  3.  4.  5.  5.  5.  5. nan nan nan]\n",
      "5.0    4\n",
      "1.0    1\n",
      "2.0    1\n",
      "3.0    1\n",
      "4.0    1\n",
      "Name: count, dtype: int64\n"
     ]
    }
   ],
   "execution_count": 63
  },
  {
   "metadata": {
    "ExecuteTime": {
     "end_time": "2025-10-28T01:14:20.202952Z",
     "start_time": "2025-10-28T01:14:20.198207Z"
    }
   },
   "cell_type": "code",
   "source": [
    "# drop duplicates keep the first shown value and index\n",
    "print(s.drop_duplicates()) # -> series\n",
    "print(s.nunique())\n",
    "s.unique() # -> list"
   ],
   "id": "636e2d6b422d6f4e",
   "outputs": [
    {
     "name": "stdout",
     "output_type": "stream",
     "text": [
      "0    1.0\n",
      "1    2.0\n",
      "2    3.0\n",
      "3    4.0\n",
      "4    5.0\n",
      "8    NaN\n",
      "dtype: float64\n",
      "5\n"
     ]
    },
    {
     "data": {
      "text/plain": [
       "array([ 1.,  2.,  3.,  4.,  5., nan])"
      ]
     },
     "execution_count": 67,
     "metadata": {},
     "output_type": "execute_result"
    }
   ],
   "execution_count": 67
  },
  {
   "metadata": {
    "ExecuteTime": {
     "end_time": "2025-10-28T01:14:53.186599Z",
     "start_time": "2025-10-28T01:14:53.182683Z"
    }
   },
   "cell_type": "code",
   "source": [
    "# sorting\n",
    "s.sort_index()"
   ],
   "id": "6c012dafe13240b1",
   "outputs": [
    {
     "data": {
      "text/plain": [
       "0     1.0\n",
       "1     2.0\n",
       "2     3.0\n",
       "3     4.0\n",
       "4     5.0\n",
       "5     5.0\n",
       "6     5.0\n",
       "7     5.0\n",
       "8     NaN\n",
       "9     NaN\n",
       "10    NaN\n",
       "dtype: float64"
      ]
     },
     "execution_count": 68,
     "metadata": {},
     "output_type": "execute_result"
    }
   ],
   "execution_count": 68
  },
  {
   "metadata": {
    "ExecuteTime": {
     "end_time": "2025-10-28T01:15:12.779910Z",
     "start_time": "2025-10-28T01:15:12.775492Z"
    }
   },
   "cell_type": "code",
   "source": "s.sort_values()",
   "id": "181333f4dd11b57e",
   "outputs": [
    {
     "data": {
      "text/plain": [
       "0     1.0\n",
       "1     2.0\n",
       "2     3.0\n",
       "3     4.0\n",
       "4     5.0\n",
       "5     5.0\n",
       "6     5.0\n",
       "7     5.0\n",
       "8     NaN\n",
       "9     NaN\n",
       "10    NaN\n",
       "dtype: float64"
      ]
     },
     "execution_count": 69,
     "metadata": {},
     "output_type": "execute_result"
    }
   ],
   "execution_count": 69
  }
 ],
 "metadata": {
  "kernelspec": {
   "display_name": "Python 3",
   "language": "python",
   "name": "python3"
  },
  "language_info": {
   "codemirror_mode": {
    "name": "ipython",
    "version": 2
   },
   "file_extension": ".py",
   "mimetype": "text/x-python",
   "name": "python",
   "nbconvert_exporter": "python",
   "pygments_lexer": "ipython2",
   "version": "2.7.6"
  }
 },
 "nbformat": 4,
 "nbformat_minor": 5
}
