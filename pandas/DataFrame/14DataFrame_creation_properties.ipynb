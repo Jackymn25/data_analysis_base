{
 "cells": [
  {
   "metadata": {},
   "cell_type": "markdown",
   "source": "#DataFrame",
   "id": "4a766262d35abea"
  },
  {
   "metadata": {
    "ExecuteTime": {
     "end_time": "2025-10-31T01:15:56.029314Z",
     "start_time": "2025-10-31T01:15:56.024445Z"
    }
   },
   "cell_type": "code",
   "source": [
    "import pandas as pd\n",
    "import numpy as np\n",
    "\n",
    "s1 = pd.Series([1,2,3], index = ['a','b','c'])\n",
    "s2 = pd.Series([6,7,8])\n",
    "df = pd.DataFrame({\"Property_1\":s1,\"Property_2\":s2})\n",
    "print(df)\n",
    "print(df[\"Property_1\"])"
   ],
   "id": "de842b3598569c54",
   "outputs": [
    {
     "name": "stdout",
     "output_type": "stream",
     "text": [
      "   Property_1  Property_2\n",
      "a         1.0         NaN\n",
      "b         2.0         NaN\n",
      "c         3.0         NaN\n",
      "0         NaN         6.0\n",
      "1         NaN         7.0\n",
      "2         NaN         8.0\n",
      "a    1.0\n",
      "b    2.0\n",
      "c    3.0\n",
      "0    NaN\n",
      "1    NaN\n",
      "2    NaN\n",
      "Name: Property_1, dtype: float64\n"
     ]
    }
   ],
   "execution_count": 4
  }
 ],
 "metadata": {
  "kernelspec": {
   "display_name": "Python 3",
   "language": "python",
   "name": "python3"
  },
  "language_info": {
   "codemirror_mode": {
    "name": "ipython",
    "version": 2
   },
   "file_extension": ".py",
   "mimetype": "text/x-python",
   "name": "python",
   "nbconvert_exporter": "python",
   "pygments_lexer": "ipython2",
   "version": "2.7.6"
  }
 },
 "nbformat": 4,
 "nbformat_minor": 5
}
