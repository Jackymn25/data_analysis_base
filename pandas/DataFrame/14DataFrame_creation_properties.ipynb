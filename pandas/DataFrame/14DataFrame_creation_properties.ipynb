{
 "cells": [
  {
   "metadata": {},
   "cell_type": "markdown",
   "source": "#DataFrame",
   "id": "4a766262d35abea"
  },
  {
   "metadata": {
    "ExecuteTime": {
     "end_time": "2025-10-31T01:15:56.029314Z",
     "start_time": "2025-10-31T01:15:56.024445Z"
    }
   },
   "cell_type": "code",
   "source": [
    "import pandas as pd\n",
    "import numpy as np\n",
    "\n",
    "s1 = pd.Series([1,2,3], index = ['a','b','c'])\n",
    "s2 = pd.Series([6,7,8])\n",
    "df = pd.DataFrame({\"Property_1\":s1,\"Property_2\":s2})\n",
    "print(df)\n",
    "print(df[\"Property_1\"])"
   ],
   "id": "de842b3598569c54",
   "outputs": [
    {
     "name": "stdout",
     "output_type": "stream",
     "text": [
      "   Property_1  Property_2\n",
      "a         1.0         NaN\n",
      "b         2.0         NaN\n",
      "c         3.0         NaN\n",
      "0         NaN         6.0\n",
      "1         NaN         7.0\n",
      "2         NaN         8.0\n",
      "a    1.0\n",
      "b    2.0\n",
      "c    3.0\n",
      "0    NaN\n",
      "1    NaN\n",
      "2    NaN\n",
      "Name: Property_1, dtype: float64\n"
     ]
    }
   ],
   "execution_count": 4
  },
  {
   "metadata": {
    "ExecuteTime": {
     "end_time": "2025-10-31T03:28:05.047145Z",
     "start_time": "2025-10-31T03:28:05.035894Z"
    }
   },
   "cell_type": "code",
   "source": [
    "df = pd.DataFrame(\n",
    "    {\"stu_id\": [100,101,102,103,104],\n",
    "     \"name\": ['a','b','c','d','e'],\n",
    "     \"grade\": [99, 66, 78, 82, 89]},\n",
    "    index=[1,2,3,4,5], columns=['name','grade', 'stu_id']\n",
    ")\n",
    "print(df)"
   ],
   "id": "29ed84893a342c70",
   "outputs": [
    {
     "name": "stdout",
     "output_type": "stream",
     "text": [
      "  name  grade  stu_id\n",
      "1    a     99     100\n",
      "2    b     66     101\n",
      "3    c     78     102\n",
      "4    d     82     103\n",
      "5    e     89     104\n"
     ]
    }
   ],
   "execution_count": 6
  },
  {
   "metadata": {},
   "cell_type": "markdown",
   "source": "## Properties",
   "id": "b5e3f4b4d70b3186"
  },
  {
   "metadata": {
    "ExecuteTime": {
     "end_time": "2025-10-31T03:35:42.094417Z",
     "start_time": "2025-10-31T03:35:42.090371Z"
    }
   },
   "cell_type": "code",
   "source": [
    "print(df.index)\n",
    "print(df.columns)\n",
    "print(df.values)"
   ],
   "id": "73a858285e0c5d73",
   "outputs": [
    {
     "name": "stdout",
     "output_type": "stream",
     "text": [
      "Index([1, 2, 3, 4, 5], dtype='int64')\n",
      "Index(['name', 'grade', 'stu_id'], dtype='object')\n",
      "[['a' 99 100]\n",
      " ['b' 66 101]\n",
      " ['c' 78 102]\n",
      " ['d' 82 103]\n",
      " ['e' 89 104]]\n"
     ]
    }
   ],
   "execution_count": 9
  },
  {
   "metadata": {
    "ExecuteTime": {
     "end_time": "2025-10-31T03:47:09.610238Z",
     "start_time": "2025-10-31T03:47:09.604476Z"
    }
   },
   "cell_type": "code",
   "source": [
    "print(df.ndim)\n",
    "print(df.dtypes)\n",
    "print(df.shape)\n",
    "print(df.size)"
   ],
   "id": "d05ff4b8e0adae78",
   "outputs": [
    {
     "name": "stdout",
     "output_type": "stream",
     "text": [
      "2\n",
      "name      object\n",
      "grade      int64\n",
      "stu_id     int64\n",
      "dtype: object\n",
      "(5, 3)\n",
      "15\n"
     ]
    }
   ],
   "execution_count": 13
  },
  {
   "metadata": {
    "ExecuteTime": {
     "end_time": "2025-10-31T03:47:22.499046Z",
     "start_time": "2025-10-31T03:47:22.488477Z"
    }
   },
   "cell_type": "code",
   "source": "print(df.T) # col row will change",
   "id": "108f2f7e9f0817a4",
   "outputs": [
    {
     "name": "stdout",
     "output_type": "stream",
     "text": [
      "          1    2    3    4    5\n",
      "name      a    b    c    d    e\n",
      "grade    99   66   78   82   89\n",
      "stu_id  100  101  102  103  104\n"
     ]
    }
   ],
   "execution_count": 14
  },
  {
   "metadata": {
    "ExecuteTime": {
     "end_time": "2025-10-31T04:01:48.938152Z",
     "start_time": "2025-10-31T04:01:48.930561Z"
    }
   },
   "cell_type": "code",
   "source": [
    "# loc iloc at iat\n",
    "print(df)\n",
    "\n",
    "print(df.loc[4, :])\n",
    "print(df.loc[4, 'name'])\n",
    "\n",
    "print(df.iloc[3, :])\n",
    "# ...\n",
    "\n",
    "print(df.loc[:, 'name'])\n",
    "\n",
    "print(df.loc[:, ['name','grade']])\n",
    "print(df.iloc[:,[i for i in range(2)]])"
   ],
   "id": "cacf0e69430ff834",
   "outputs": [
    {
     "name": "stdout",
     "output_type": "stream",
     "text": [
      "  name  grade  stu_id\n",
      "1    a     99     100\n",
      "2    b     66     101\n",
      "3    c     78     102\n",
      "4    d     82     103\n",
      "5    e     89     104\n",
      "name        d\n",
      "grade      82\n",
      "stu_id    103\n",
      "Name: 4, dtype: object\n",
      "d\n",
      "name        d\n",
      "grade      82\n",
      "stu_id    103\n",
      "Name: 4, dtype: object\n",
      "1    a\n",
      "2    b\n",
      "3    c\n",
      "4    d\n",
      "5    e\n",
      "Name: name, dtype: object\n",
      "  name  grade\n",
      "1    a     99\n",
      "2    b     66\n",
      "3    c     78\n",
      "4    d     82\n",
      "5    e     89\n",
      "  name  grade\n",
      "1    a     99\n",
      "2    b     66\n",
      "3    c     78\n",
      "4    d     82\n",
      "5    e     89\n"
     ]
    }
   ],
   "execution_count": 32
  },
  {
   "metadata": {
    "ExecuteTime": {
     "end_time": "2025-10-31T03:58:34.232256Z",
     "start_time": "2025-10-31T03:58:34.224437Z"
    }
   },
   "cell_type": "code",
   "source": [
    "# get single column's data\n",
    "print(df['name']) # -> Series\n",
    "print(df.name) # -> Series\n",
    "print(df[[\"name\" , 'grade']])"
   ],
   "id": "d131eeb1f3c66b62",
   "outputs": [
    {
     "name": "stdout",
     "output_type": "stream",
     "text": [
      "1    a\n",
      "2    b\n",
      "3    c\n",
      "4    d\n",
      "5    e\n",
      "Name: name, dtype: object\n",
      "1    a\n",
      "2    b\n",
      "3    c\n",
      "4    d\n",
      "5    e\n",
      "Name: name, dtype: object\n",
      "  name  grade\n",
      "1    a     99\n",
      "2    b     66\n",
      "3    c     78\n",
      "4    d     82\n",
      "5    e     89\n"
     ]
    }
   ],
   "execution_count": 26
  },
  {
   "metadata": {
    "ExecuteTime": {
     "end_time": "2025-10-31T04:02:30.881938Z",
     "start_time": "2025-10-31T04:02:30.875458Z"
    }
   },
   "cell_type": "code",
   "source": [
    "print(df.head(2))\n",
    "print(df.tail(2))"
   ],
   "id": "8e9a314cdd2b03db",
   "outputs": [
    {
     "name": "stdout",
     "output_type": "stream",
     "text": [
      "  name  grade  stu_id\n",
      "1    a     99     100\n",
      "2    b     66     101\n",
      "  name  grade  stu_id\n",
      "4    d     82     103\n",
      "5    e     89     104\n"
     ]
    }
   ],
   "execution_count": 33
  },
  {
   "metadata": {
    "ExecuteTime": {
     "end_time": "2025-10-31T04:04:19.086331Z",
     "start_time": "2025-10-31T04:04:19.075911Z"
    }
   },
   "cell_type": "code",
   "source": [
    "# BOOL slicing\n",
    "print(df[df.grade>=85])\n",
    "df[(df.grade>=85) & (df.stu_id<=103)]"
   ],
   "id": "d5ee0859f044205a",
   "outputs": [
    {
     "name": "stdout",
     "output_type": "stream",
     "text": [
      "  name  grade  stu_id\n",
      "1    a     99     100\n",
      "5    e     89     104\n"
     ]
    },
    {
     "data": {
      "text/plain": [
       "  name  grade  stu_id\n",
       "1    a     99     100"
      ],
      "text/html": [
       "<div>\n",
       "<style scoped>\n",
       "    .dataframe tbody tr th:only-of-type {\n",
       "        vertical-align: middle;\n",
       "    }\n",
       "\n",
       "    .dataframe tbody tr th {\n",
       "        vertical-align: top;\n",
       "    }\n",
       "\n",
       "    .dataframe thead th {\n",
       "        text-align: right;\n",
       "    }\n",
       "</style>\n",
       "<table border=\"1\" class=\"dataframe\">\n",
       "  <thead>\n",
       "    <tr style=\"text-align: right;\">\n",
       "      <th></th>\n",
       "      <th>name</th>\n",
       "      <th>grade</th>\n",
       "      <th>stu_id</th>\n",
       "    </tr>\n",
       "  </thead>\n",
       "  <tbody>\n",
       "    <tr>\n",
       "      <th>1</th>\n",
       "      <td>a</td>\n",
       "      <td>99</td>\n",
       "      <td>100</td>\n",
       "    </tr>\n",
       "  </tbody>\n",
       "</table>\n",
       "</div>"
      ]
     },
     "execution_count": 38,
     "metadata": {},
     "output_type": "execute_result"
    }
   ],
   "execution_count": 38
  },
  {
   "metadata": {
    "ExecuteTime": {
     "end_time": "2025-10-31T04:04:45.688313Z",
     "start_time": "2025-10-31T04:04:45.679414Z"
    }
   },
   "cell_type": "code",
   "source": [
    "# random sample\n",
    "df.sample(2)"
   ],
   "id": "cd0aa9ce29177c89",
   "outputs": [
    {
     "data": {
      "text/plain": [
       "  name  grade  stu_id\n",
       "3    c     78     102\n",
       "4    d     82     103"
      ],
      "text/html": [
       "<div>\n",
       "<style scoped>\n",
       "    .dataframe tbody tr th:only-of-type {\n",
       "        vertical-align: middle;\n",
       "    }\n",
       "\n",
       "    .dataframe tbody tr th {\n",
       "        vertical-align: top;\n",
       "    }\n",
       "\n",
       "    .dataframe thead th {\n",
       "        text-align: right;\n",
       "    }\n",
       "</style>\n",
       "<table border=\"1\" class=\"dataframe\">\n",
       "  <thead>\n",
       "    <tr style=\"text-align: right;\">\n",
       "      <th></th>\n",
       "      <th>name</th>\n",
       "      <th>grade</th>\n",
       "      <th>stu_id</th>\n",
       "    </tr>\n",
       "  </thead>\n",
       "  <tbody>\n",
       "    <tr>\n",
       "      <th>3</th>\n",
       "      <td>c</td>\n",
       "      <td>78</td>\n",
       "      <td>102</td>\n",
       "    </tr>\n",
       "    <tr>\n",
       "      <th>4</th>\n",
       "      <td>d</td>\n",
       "      <td>82</td>\n",
       "      <td>103</td>\n",
       "    </tr>\n",
       "  </tbody>\n",
       "</table>\n",
       "</div>"
      ]
     },
     "execution_count": 40,
     "metadata": {},
     "output_type": "execute_result"
    }
   ],
   "execution_count": 40
  }
 ],
 "metadata": {
  "kernelspec": {
   "display_name": "Python 3",
   "language": "python",
   "name": "python3"
  },
  "language_info": {
   "codemirror_mode": {
    "name": "ipython",
    "version": 2
   },
   "file_extension": ".py",
   "mimetype": "text/x-python",
   "name": "python",
   "nbconvert_exporter": "python",
   "pygments_lexer": "ipython2",
   "version": "2.7.6"
  }
 },
 "nbformat": 4,
 "nbformat_minor": 5
}
