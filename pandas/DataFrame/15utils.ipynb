{
 "cells": [
  {
   "cell_type": "code",
   "id": "initial_id",
   "metadata": {
    "collapsed": true,
    "ExecuteTime": {
     "end_time": "2025-11-01T01:46:37.120252Z",
     "start_time": "2025-11-01T01:46:36.733952Z"
    }
   },
   "source": [
    "import pandas as pd\n",
    "import numpy as np"
   ],
   "outputs": [],
   "execution_count": 1
  },
  {
   "metadata": {},
   "cell_type": "markdown",
   "source": "# Utils",
   "id": "b126afda3411e556"
  },
  {
   "metadata": {
    "ExecuteTime": {
     "end_time": "2025-11-01T01:51:48.262617Z",
     "start_time": "2025-11-01T01:51:48.258608Z"
    }
   },
   "cell_type": "code",
   "source": [
    "df = pd.DataFrame(\n",
    "    {\"name\": [\"Tom\", \"Jacky\", \"Raymond\", \"Paul\", \"Bobby\", \"Niko\"],\n",
    "     \"age\": [29, 19, 18, 37, 16, 25],\n",
    "     \"score\": [91,90,87,78,66,80]},\n",
    "    index = [i for i in range(1,7)],\n",
    "    columns = ['name', 'score', 'age']\n",
    ")"
   ],
   "id": "21d6600aa82508a3",
   "outputs": [],
   "execution_count": 6
  },
  {
   "metadata": {
    "ExecuteTime": {
     "end_time": "2025-11-01T01:53:22.265372Z",
     "start_time": "2025-11-01T01:53:22.261923Z"
    }
   },
   "cell_type": "code",
   "source": [
    "# in\n",
    "print(df.isin(['Raymond', 87, 18]))"
   ],
   "id": "e1e33c37a1f3c37e",
   "outputs": [
    {
     "name": "stdout",
     "output_type": "stream",
     "text": [
      "    name  score    age\n",
      "1  False  False  False\n",
      "2  False  False  False\n",
      "3   True   True   True\n",
      "4  False  False  False\n",
      "5  False  False  False\n",
      "6  False  False  False\n"
     ]
    }
   ],
   "execution_count": 9
  },
  {
   "metadata": {
    "ExecuteTime": {
     "end_time": "2025-11-01T01:56:14.535852Z",
     "start_time": "2025-11-01T01:56:14.525953Z"
    }
   },
   "cell_type": "code",
   "source": [
    "print(df.score.sum())\n",
    "print(df.score.max())\n",
    "print(df.score.mean(), df.score.median(), df.score.var(), df.score.std())\n",
    "print(df.score.quantile(.25))\n",
    "#\n",
    "print(df.describe())"
   ],
   "id": "8069b6c9044b1f64",
   "outputs": [
    {
     "name": "stdout",
     "output_type": "stream",
     "text": [
      "492\n",
      "91\n",
      "82.0 83.5 89.2 9.444575162494075\n",
      "78.5\n",
      "           score    age\n",
      "count   6.000000   6.00\n",
      "mean   82.000000  24.00\n",
      "std     9.444575   8.00\n",
      "min    66.000000  16.00\n",
      "25%    78.500000  18.25\n",
      "50%    83.500000  22.00\n",
      "75%    89.250000  28.00\n",
      "max    91.000000  37.00\n"
     ]
    }
   ],
   "execution_count": 16
  },
  {
   "metadata": {
    "ExecuteTime": {
     "end_time": "2025-11-01T01:57:01.702124Z",
     "start_time": "2025-11-01T01:57:01.692759Z"
    }
   },
   "cell_type": "code",
   "source": [
    "# count\n",
    "print(df.count())\n",
    "print(df.value_counts())"
   ],
   "id": "1d21bc4e2f673f4c",
   "outputs": [
    {
     "name": "stdout",
     "output_type": "stream",
     "text": [
      "name     6\n",
      "score    6\n",
      "age      6\n",
      "dtype: int64\n",
      "name     score  age\n",
      "Bobby    66     16     1\n",
      "Jacky    90     19     1\n",
      "Niko     80     25     1\n",
      "Paul     78     37     1\n",
      "Raymond  87     18     1\n",
      "Tom      91     29     1\n",
      "Name: count, dtype: int64\n"
     ]
    }
   ],
   "execution_count": 18
  },
  {
   "metadata": {
    "ExecuteTime": {
     "end_time": "2025-11-01T02:00:19.852223Z",
     "start_time": "2025-11-01T02:00:19.846918Z"
    }
   },
   "cell_type": "code",
   "source": [
    "# duplicates\n",
    "df_ = pd.DataFrame(\n",
    "    {\"name\": [\"Tom\", \"Tom\", \"Raymond\", \"Paul\", \"Bobby\", \"Tom\"],\n",
    "     \"age\": [29, 29, 18, 37, 16, 25],\n",
    "     \"score\": [91,91,87,78,66,80]},\n",
    "    index = [i for i in range(1,7)],\n",
    "    columns = ['name', 'score', 'age']\n",
    ")\n",
    "print(df_.drop_duplicates())\n",
    "# print(df_.duplicated(subset=['score']))\n",
    "# print(df_.duplicated(subset=['age']))\n",
    "print(df_.duplicated(subset=['name']))"
   ],
   "id": "a738620cb0e8d7f1",
   "outputs": [
    {
     "name": "stdout",
     "output_type": "stream",
     "text": [
      "      name  score  age\n",
      "1      Tom     91   29\n",
      "3  Raymond     87   18\n",
      "4     Paul     78   37\n",
      "5    Bobby     66   16\n",
      "6      Tom     80   25\n",
      "1    False\n",
      "2     True\n",
      "3    False\n",
      "4    False\n",
      "5    False\n",
      "6     True\n",
      "dtype: bool\n"
     ]
    }
   ],
   "execution_count": 23
  },
  {
   "metadata": {
    "ExecuteTime": {
     "end_time": "2025-11-01T02:01:01.023377Z",
     "start_time": "2025-11-01T02:01:01.014906Z"
    }
   },
   "cell_type": "code",
   "source": [
    "# sampling\n",
    "df.sample(2)"
   ],
   "id": "46eb0df5a6e816fa",
   "outputs": [
    {
     "data": {
      "text/plain": [
       "    name  score  age\n",
       "1    Tom     91   29\n",
       "5  Bobby     66   16"
      ],
      "text/html": [
       "<div>\n",
       "<style scoped>\n",
       "    .dataframe tbody tr th:only-of-type {\n",
       "        vertical-align: middle;\n",
       "    }\n",
       "\n",
       "    .dataframe tbody tr th {\n",
       "        vertical-align: top;\n",
       "    }\n",
       "\n",
       "    .dataframe thead th {\n",
       "        text-align: right;\n",
       "    }\n",
       "</style>\n",
       "<table border=\"1\" class=\"dataframe\">\n",
       "  <thead>\n",
       "    <tr style=\"text-align: right;\">\n",
       "      <th></th>\n",
       "      <th>name</th>\n",
       "      <th>score</th>\n",
       "      <th>age</th>\n",
       "    </tr>\n",
       "  </thead>\n",
       "  <tbody>\n",
       "    <tr>\n",
       "      <th>1</th>\n",
       "      <td>Tom</td>\n",
       "      <td>91</td>\n",
       "      <td>29</td>\n",
       "    </tr>\n",
       "    <tr>\n",
       "      <th>5</th>\n",
       "      <td>Bobby</td>\n",
       "      <td>66</td>\n",
       "      <td>16</td>\n",
       "    </tr>\n",
       "  </tbody>\n",
       "</table>\n",
       "</div>"
      ]
     },
     "execution_count": 24,
     "metadata": {},
     "output_type": "execute_result"
    }
   ],
   "execution_count": 24
  },
  {
   "metadata": {
    "ExecuteTime": {
     "end_time": "2025-11-01T02:01:53.087452Z",
     "start_time": "2025-11-01T02:01:53.083892Z"
    }
   },
   "cell_type": "code",
   "source": "print(df.replace(18,30)) # Raymond is 30 now lollll",
   "id": "dcb682d3ee6cdc9c",
   "outputs": [
    {
     "name": "stdout",
     "output_type": "stream",
     "text": [
      "      name  score  age\n",
      "1      Tom     91   29\n",
      "2    Jacky     90   19\n",
      "3  Raymond     87   30\n",
      "4     Paul     78   37\n",
      "5    Bobby     66   16\n",
      "6     Niko     80   25\n"
     ]
    }
   ],
   "execution_count": 25
  },
  {
   "metadata": {
    "ExecuteTime": {
     "end_time": "2025-11-01T02:03:24.618520Z",
     "start_time": "2025-11-01T02:03:24.614239Z"
    }
   },
   "cell_type": "code",
   "source": [
    "df.cumsum()\n",
    "df.cummin(axis=0)"
   ],
   "id": "9ebaa23fdfc7cf3c",
   "outputs": [
    {
     "data": {
      "text/plain": [
       "    name  score  age\n",
       "1    Tom     91   29\n",
       "2  Jacky     90   19\n",
       "3  Jacky     87   18\n",
       "4  Jacky     78   18\n",
       "5  Bobby     66   16\n",
       "6  Bobby     66   16"
      ],
      "text/html": [
       "<div>\n",
       "<style scoped>\n",
       "    .dataframe tbody tr th:only-of-type {\n",
       "        vertical-align: middle;\n",
       "    }\n",
       "\n",
       "    .dataframe tbody tr th {\n",
       "        vertical-align: top;\n",
       "    }\n",
       "\n",
       "    .dataframe thead th {\n",
       "        text-align: right;\n",
       "    }\n",
       "</style>\n",
       "<table border=\"1\" class=\"dataframe\">\n",
       "  <thead>\n",
       "    <tr style=\"text-align: right;\">\n",
       "      <th></th>\n",
       "      <th>name</th>\n",
       "      <th>score</th>\n",
       "      <th>age</th>\n",
       "    </tr>\n",
       "  </thead>\n",
       "  <tbody>\n",
       "    <tr>\n",
       "      <th>1</th>\n",
       "      <td>Tom</td>\n",
       "      <td>91</td>\n",
       "      <td>29</td>\n",
       "    </tr>\n",
       "    <tr>\n",
       "      <th>2</th>\n",
       "      <td>Jacky</td>\n",
       "      <td>90</td>\n",
       "      <td>19</td>\n",
       "    </tr>\n",
       "    <tr>\n",
       "      <th>3</th>\n",
       "      <td>Jacky</td>\n",
       "      <td>87</td>\n",
       "      <td>18</td>\n",
       "    </tr>\n",
       "    <tr>\n",
       "      <th>4</th>\n",
       "      <td>Jacky</td>\n",
       "      <td>78</td>\n",
       "      <td>18</td>\n",
       "    </tr>\n",
       "    <tr>\n",
       "      <th>5</th>\n",
       "      <td>Bobby</td>\n",
       "      <td>66</td>\n",
       "      <td>16</td>\n",
       "    </tr>\n",
       "    <tr>\n",
       "      <th>6</th>\n",
       "      <td>Bobby</td>\n",
       "      <td>66</td>\n",
       "      <td>16</td>\n",
       "    </tr>\n",
       "  </tbody>\n",
       "</table>\n",
       "</div>"
      ]
     },
     "execution_count": 27,
     "metadata": {},
     "output_type": "execute_result"
    }
   ],
   "execution_count": 27
  },
  {
   "metadata": {
    "ExecuteTime": {
     "end_time": "2025-11-01T02:09:45.725239Z",
     "start_time": "2025-11-01T02:09:45.718877Z"
    }
   },
   "cell_type": "code",
   "source": [
    "# sorting\n",
    "print(df.sort_index(ascending=False))\n",
    "\n",
    "print(df.sort_values(by='score', ascending=False))\n",
    "\n",
    "df__ = pd.DataFrame(\n",
    "    {\"name\": [\"Tom\", \"Gery\", \"Raymond\", \"Paul\", \"Bobby\", \"sally\"],\n",
    "     \"age\": [29, 28, 18, 37, 16, 25],\n",
    "     \"score\": [91,91,87,78,66,80]},\n",
    "    index = [i for i in range(1,7)],\n",
    "    columns = ['name', 'score', 'age']\n",
    ")\n",
    "# first by grade second by age\n",
    "print(df__.sort_values(by=['score', 'age'], ascending=[False,True]))"
   ],
   "id": "7adc1fc59f897c80",
   "outputs": [
    {
     "name": "stdout",
     "output_type": "stream",
     "text": [
      "      name  score  age\n",
      "6     Niko     80   25\n",
      "5    Bobby     66   16\n",
      "4     Paul     78   37\n",
      "3  Raymond     87   18\n",
      "2    Jacky     90   19\n",
      "1      Tom     91   29\n",
      "      name  score  age\n",
      "1      Tom     91   29\n",
      "2    Jacky     90   19\n",
      "3  Raymond     87   18\n",
      "6     Niko     80   25\n",
      "4     Paul     78   37\n",
      "5    Bobby     66   16\n",
      "      name  score  age\n",
      "2     Gery     91   28\n",
      "1      Tom     91   29\n",
      "3  Raymond     87   18\n",
      "6    sally     80   25\n",
      "4     Paul     78   37\n",
      "5    Bobby     66   16\n"
     ]
    }
   ],
   "execution_count": 32
  },
  {
   "metadata": {
    "ExecuteTime": {
     "end_time": "2025-11-01T02:10:35.141960Z",
     "start_time": "2025-11-01T02:10:35.134086Z"
    }
   },
   "cell_type": "code",
   "source": "print(df.nlargest(2, columns=['score','age']))",
   "id": "235dd47e3cde1bfa",
   "outputs": [
    {
     "name": "stdout",
     "output_type": "stream",
     "text": [
      "    name  score  age\n",
      "1    Tom     91   29\n",
      "2  Jacky     90   19\n"
     ]
    }
   ],
   "execution_count": 33
  }
 ],
 "metadata": {
  "kernelspec": {
   "display_name": "Python 3",
   "language": "python",
   "name": "python3"
  },
  "language_info": {
   "codemirror_mode": {
    "name": "ipython",
    "version": 2
   },
   "file_extension": ".py",
   "mimetype": "text/x-python",
   "name": "python",
   "nbconvert_exporter": "python",
   "pygments_lexer": "ipython2",
   "version": "2.7.6"
  }
 },
 "nbformat": 4,
 "nbformat_minor": 5
}
