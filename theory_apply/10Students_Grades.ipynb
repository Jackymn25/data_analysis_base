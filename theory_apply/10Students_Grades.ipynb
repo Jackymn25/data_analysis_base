{
 "cells": [
  {
   "cell_type": "code",
   "id": "initial_id",
   "metadata": {
    "collapsed": true,
    "ExecuteTime": {
     "end_time": "2025-10-28T01:18:24.568326Z",
     "start_time": "2025-10-28T01:18:24.382101Z"
    }
   },
   "source": [
    "import numpy as np\n",
    "import pandas as pd\n",
    "\n",
    "np.random.seed(647)"
   ],
   "outputs": [],
   "execution_count": 1
  },
  {
   "metadata": {},
   "cell_type": "markdown",
   "source": "# Create a dataset of size 902 which follows normal distribution with mean = 60.8, std = 20.4, however, each grade is int type, find the number of students who is above average.",
   "id": "e85c49f7b6da2bd4"
  },
  {
   "metadata": {
    "ExecuteTime": {
     "end_time": "2025-10-28T01:31:26.986713Z",
     "start_time": "2025-10-28T01:31:26.974467Z"
    }
   },
   "cell_type": "code",
   "source": [
    "arr = np.random.randn(902) * 20.4 + 60.8\n",
    "arr = np.round(arr)\n",
    "# print(arr)\n",
    "arr = np.where((arr < 0) | (arr > 100), np.nan, arr)\n",
    "# print(arr)\n",
    "\n",
    "s = pd.Series(arr)\n",
    "s1 = s[s>= 60.8]\n",
    "print(s1.count())"
   ],
   "id": "dfa4817c63556995",
   "outputs": [
    {
     "name": "stdout",
     "output_type": "stream",
     "text": [
      "433\n"
     ]
    }
   ],
   "execution_count": 19
  },
  {
   "metadata": {
    "ExecuteTime": {
     "end_time": "2025-10-28T01:38:21.855325Z",
     "start_time": "2025-10-28T01:38:21.848381Z"
    }
   },
   "cell_type": "code",
   "source": [
    "# instructor's answer - focus on pd utils not the question\n",
    "values = np.random.randint(50, 101, 10)\n",
    "index = [('Student' + str(i)) for i in range(1, 11)]\n",
    "print(index, values, sep = '\\n')\n",
    "score = pd.Series(values, index)\n",
    "print(score.mean(), score.median(), score.max())\n",
    "print(score[score > score.mean()].count())"
   ],
   "id": "143197c8c85cd57f",
   "outputs": [
    {
     "name": "stdout",
     "output_type": "stream",
     "text": [
      "['Student1', 'Student2', 'Student3', 'Student4', 'Student5', 'Student6', 'Student7', 'Student8', 'Student9', 'Student10']\n",
      "[65 97 76 65 61 89 60 84 98 81]\n",
      "77.6 78.5 98\n",
      "5\n"
     ]
    }
   ],
   "execution_count": 25
  },
  {
   "metadata": {},
   "cell_type": "markdown",
   "source": [
    "# Given a weather DataSet of an area, complete the following Tasks\n",
    "- Find number of days that tem > 11\n",
    "- Compute tem avg\n",
    "- sort tem from high to low, and conclude which day has biggest tem\n",
    "- Find the two days that witness highest temp-change"
   ],
   "id": "4efd862a1c823382"
  },
  {
   "metadata": {
    "ExecuteTime": {
     "end_time": "2025-10-28T02:30:17.039299Z",
     "start_time": "2025-10-28T02:30:17.032024Z"
    }
   },
   "cell_type": "code",
   "source": [
    "import pandas as pd\n",
    "import numpy as np\n",
    "\n",
    "data = pd.read_csv('weather_sim_1000.csv')\n",
    "data.head(3)\n",
    "TEMP_DATA = data.loc[:, 'temp_mean_C']\n",
    "TEMP_DATA = pd.Series(TEMP_DATA)\n",
    "print(TEMP_DATA[TEMP_DATA > 11].count())\n",
    "print(TEMP_DATA.mean())\n",
    "print(np.argmax(TEMP_DATA))\n",
    "\n",
    "TEMP_DATA_ = TEMP_DATA.sort_values(ascending = False)\n",
    "TEMP_DATA_.head(10) # -> 150\n",
    "\n",
    "print(TEMP_DATA.diff().abs())\n",
    "\n",
    "print(TEMP_DATA.diff().abs().sort_values(ascending=False).keys())"
   ],
   "id": "a1dbedc26e12c29d",
   "outputs": [
    {
     "name": "stdout",
     "output_type": "stream",
     "text": [
      "650\n",
      "14.80498981670061\n",
      "150\n",
      "0       NaN\n",
      "1       3.4\n",
      "2       1.5\n",
      "3       1.4\n",
      "4       0.3\n",
      "       ... \n",
      "995     6.0\n",
      "996    10.3\n",
      "997     4.3\n",
      "998     6.7\n",
      "999     5.7\n",
      "Name: temp_mean_C, Length: 1000, dtype: float64\n",
      "Index([348, 660, 573, 468, 677, 900, 685, 466, 438, 864,\n",
      "       ...\n",
      "       794, 795, 812, 813, 866, 867, 904, 905, 959, 960],\n",
      "      dtype='int64', length=1000)\n"
     ]
    }
   ],
   "execution_count": 64
  }
 ],
 "metadata": {
  "kernelspec": {
   "display_name": "Python 3",
   "language": "python",
   "name": "python3"
  },
  "language_info": {
   "codemirror_mode": {
    "name": "ipython",
    "version": 2
   },
   "file_extension": ".py",
   "mimetype": "text/x-python",
   "name": "python",
   "nbconvert_exporter": "python",
   "pygments_lexer": "ipython2",
   "version": "2.7.6"
  }
 },
 "nbformat": 4,
 "nbformat_minor": 5
}
