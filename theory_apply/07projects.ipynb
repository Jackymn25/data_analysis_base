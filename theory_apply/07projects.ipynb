{
 "cells": [
  {
   "metadata": {},
   "cell_type": "markdown",
   "source": [
    "# temp data in a city\n",
    "Q1: calculate mean, max, min, and days of temp>30\n",
    "Hint: use bool slicing or np.where"
   ],
   "id": "a1bc2c2143942f73"
  },
  {
   "metadata": {
    "ExecuteTime": {
     "end_time": "2025-10-26T23:46:29.861931Z",
     "start_time": "2025-10-26T23:46:29.857634Z"
    }
   },
   "cell_type": "code",
   "source": [
    "lst = [28, 30, 29, 31 ,32 ,30, 29]\n",
    "\n",
    "import numpy as np\n",
    "arr = np.array(lst)\n",
    "print(np.mean(arr))\n",
    "print(np.max(arr), np.min(arr))\n",
    "print(np.size(arr[arr>30]))\n",
    "print(np.where(arr>30, 1, 0))\n",
    "print(np.cumsum(np.where(arr>30, 1, 0))[-1])\n",
    "# additonal method\n",
    "print(np.count_nonzero(arr>30))"
   ],
   "id": "d7df879dd0bb1e24",
   "outputs": [
    {
     "name": "stdout",
     "output_type": "stream",
     "text": [
      "29.857142857142858\n",
      "32 28\n",
      "2\n",
      "[0 0 0 1 1 0 0]\n",
      "2\n",
      "2\n"
     ]
    }
   ],
   "execution_count": 9
  },
  {
   "metadata": {},
   "cell_type": "markdown",
   "source": [
    "# Studnets' grades\n",
    "Q2: In a random sample of a classroom, calculate mean, var, median of the class, and convert to /150"
   ],
   "id": "df320a6d40a180c4"
  },
  {
   "metadata": {
    "ExecuteTime": {
     "end_time": "2025-10-26T23:50:39.044408Z",
     "start_time": "2025-10-26T23:50:39.040820Z"
    }
   },
   "cell_type": "code",
   "source": [
    "score = [85, 90, 78, 92, 88]\n",
    "\n",
    "arr = np.array(score)\n",
    "print(np.mean(score))\n",
    "print(np.median(score))\n",
    "print(np.std(score))\n",
    "print(np.var(score))\n",
    "\n",
    "arr = np.array(score, dtype=int)\n",
    "print(arr)\n",
    "print(arr * 1.5)"
   ],
   "id": "2ef5f53f9d65dddb",
   "outputs": [
    {
     "name": "stdout",
     "output_type": "stream",
     "text": [
      "86.6\n",
      "88.0\n",
      "4.882622246293481\n",
      "23.84\n",
      "[85 90 78 92 88]\n",
      "[127.5 135.  117.  138.  132. ]\n"
     ]
    }
   ],
   "execution_count": 11
  },
  {
   "metadata": {},
   "cell_type": "markdown",
   "source": [
    "# Matrix calculations\n",
    "Q3: A is a 2 by 2 matrix, B is also 2 by 2. Calculate product result mathmatically and with numpy way. conduct addition in both way."
   ],
   "id": "7dfd7c7204eb89ca"
  },
  {
   "metadata": {
    "ExecuteTime": {
     "end_time": "2025-10-26T23:55:07.859382Z",
     "start_time": "2025-10-26T23:55:07.854556Z"
    }
   },
   "cell_type": "code",
   "source": [
    "A = [[1, 2], [3, 4]]\n",
    "B = [[5, 6], [7, 8]]\n",
    "\n",
    "arrA = np.array(A)\n",
    "arrB = np.array(B)\n",
    "\n",
    "# math\n",
    "print(arrA + arrB)\n",
    "print(arrA @ arrB)\n",
    "\n",
    "# numpy\n",
    "print(arrA + arrB)\n",
    "print(arrA * arrB)"
   ],
   "id": "ae78f0fa50d260b7",
   "outputs": [
    {
     "name": "stdout",
     "output_type": "stream",
     "text": [
      "[[ 6  8]\n",
      " [10 12]]\n",
      "[[19 22]\n",
      " [43 50]]\n",
      "[[ 6  8]\n",
      " [10 12]]\n",
      "[[ 5 12]\n",
      " [21 32]]\n"
     ]
    }
   ],
   "execution_count": 13
  },
  {
   "metadata": {},
   "cell_type": "markdown",
   "source": [
    "# Generate Random number series\n",
    "Q4: Generate a 3 by 4 random int series, ranging [0, 10]\n",
    "- calculate each row's min, and each column's max\n",
    "- replace all odd numbers with -1"
   ],
   "id": "a9e1326eecaa3e93"
  },
  {
   "metadata": {
    "ExecuteTime": {
     "end_time": "2025-10-27T00:07:42.057913Z",
     "start_time": "2025-10-27T00:07:42.053668Z"
    }
   },
   "cell_type": "code",
   "source": [
    "arr = np.random.randint(0, 11, (3,4))\n",
    "print(arr)\n",
    "\n",
    "# each colmun's max\n",
    "for i in range(4):\n",
    "    print(np.max(arr[:, i]))\n",
    "\n",
    "# each row's min\n",
    "for i in range(3):\n",
    "    print(np.min(arr[i, :]))\n",
    "\n",
    "# replacement\n",
    "print(np.where(arr%2 == 1, -1, arr))\n",
    "\n",
    "# Instructor's solution\n",
    "np.random.seed(0)\n",
    "arr = np.random.randint(0, 11, (3,4))\n",
    "print(arr)\n",
    "print(np.max(arr, axis=0))\n",
    "print(np.min(arr, axis=1))\n",
    "arr[arr%2==1] = -1\n",
    "print(arr)"
   ],
   "id": "7b8167683a20ba04",
   "outputs": [
    {
     "name": "stdout",
     "output_type": "stream",
     "text": [
      "[[ 8  8 10  1]\n",
      " [ 6  7  7  8]\n",
      " [ 1  5  9  8]]\n",
      "8\n",
      "8\n",
      "10\n",
      "8\n",
      "1\n",
      "6\n",
      "1\n",
      "[[ 8  8 10 -1]\n",
      " [ 6 -1 -1  8]\n",
      " [-1 -1 -1  8]]\n",
      "[[5 0 3 3]\n",
      " [7 9 3 5]\n",
      " [2 4 7 6]]\n",
      "[7 9 7 6]\n",
      "[0 3 2]\n",
      "[[-1  0 -1 -1]\n",
      " [-1 -1 -1 -1]\n",
      " [ 2  4 -1  6]]\n"
     ]
    }
   ],
   "execution_count": 23
  },
  {
   "metadata": {},
   "cell_type": "markdown",
   "source": [
    "# Reshape a data set\n",
    "Q5: Construct a 1 to 12 number series, reshape to 3x4 matrix\n",
    "- calculate each row's sum and each column's mean\n",
    "- reshape back to one dimension"
   ],
   "id": "9a9abeb462feba87"
  },
  {
   "metadata": {
    "ExecuteTime": {
     "end_time": "2025-10-27T00:16:52.094044Z",
     "start_time": "2025-10-27T00:16:52.090650Z"
    }
   },
   "cell_type": "code",
   "source": [
    "arr = np.linspace(1, 12, 12, dtype=int)\n",
    "print(arr)\n",
    "arr = np.reshape(arr, (3, 4))\n",
    "print(arr)\n",
    "# each row's sum\n",
    "print(np.sum(arr, axis=1))\n",
    "# each column's mean\n",
    "print(np.mean(arr, axis=0))\n",
    "# back to dim == 1\n",
    "print(np.reshape(arr, (12)))"
   ],
   "id": "8aa5925c8cfd9cec",
   "outputs": [
    {
     "name": "stdout",
     "output_type": "stream",
     "text": [
      "[ 1  2  3  4  5  6  7  8  9 10 11 12]\n",
      "[[ 1  2  3  4]\n",
      " [ 5  6  7  8]\n",
      " [ 9 10 11 12]]\n",
      "[10 26 42]\n",
      "[5. 6. 7. 8.]\n",
      "[ 1  2  3  4  5  6  7  8  9 10 11 12]\n"
     ]
    }
   ],
   "execution_count": 35
  },
  {
   "metadata": {},
   "cell_type": "markdown",
   "source": [
    "# Gnerate a 3 x 3 random data, [0, 20)\n",
    "Q6:\n",
    "- find all elements > 10\n",
    "- replace them with 0"
   ],
   "id": "4ce950832f7a752a"
  },
  {
   "metadata": {
    "ExecuteTime": {
     "end_time": "2025-10-27T00:23:55.502661Z",
     "start_time": "2025-10-27T00:23:55.498556Z"
    }
   },
   "cell_type": "code",
   "source": [
    "arr = np.random.uniform(0, 20, (3, 3))\n",
    "print(arr)\n",
    "# > 10\n",
    "print(arr[arr > 10])\n",
    "# replace\n",
    "print(np.where(arr>10, 0, arr))\n",
    "\n",
    "# method two\n",
    "arr[arr > 10] = 0\n",
    "print(arr)"
   ],
   "id": "723576ca4e8db249",
   "outputs": [
    {
     "name": "stdout",
     "output_type": "stream",
     "text": [
      "[[17.30205123 10.17937921 18.33445908]\n",
      " [18.4231522   1.66224985  5.55437123]\n",
      " [ 0.1871341  16.84684159 12.9434828 ]]\n",
      "[17.30205123 10.17937921 18.33445908 18.4231522  16.84684159 12.9434828 ]\n",
      "[[0.         0.         0.        ]\n",
      " [0.         1.66224985 5.55437123]\n",
      " [0.1871341  0.         0.        ]]\n",
      "[[0.         0.         0.        ]\n",
      " [0.         1.66224985 5.55437123]\n",
      " [0.1871341  0.         0.        ]]\n"
     ]
    }
   ],
   "execution_count": 43
  },
  {
   "metadata": {},
   "cell_type": "markdown",
   "source": [
    "# Stats functions application\n",
    "Q7: A company has a sale data sample of [120, 135, 110, 125, 130, 140]\n",
    "- calculate sum, mean, var\n",
    "- find the month which has the highest profit and the lowest"
   ],
   "id": "40c212e148216156"
  },
  {
   "metadata": {
    "ExecuteTime": {
     "end_time": "2025-10-27T00:30:22.702721Z",
     "start_time": "2025-10-27T00:30:22.699501Z"
    }
   },
   "cell_type": "code",
   "source": [
    "lst = [120, 135, 110, 125, 130, 140]\n",
    "\n",
    "profit = np.array(lst)\n",
    "print(np.sum(profit))\n",
    "print(np.mean(profit))\n",
    "print(np.var(profit))\n",
    "\n",
    "# high/low month\n",
    "print(np.argmax(profit) + 1)\n",
    "print(np.argmin(profit) + 1)"
   ],
   "id": "2f7dbbcf746af8f3",
   "outputs": [
    {
     "name": "stdout",
     "output_type": "stream",
     "text": [
      "760\n",
      "126.66666666666667\n",
      "97.22222222222223\n",
      "6\n",
      "3\n"
     ]
    }
   ],
   "execution_count": 48
  },
  {
   "metadata": {},
   "cell_type": "markdown",
   "source": [
    "# Joining number series\n",
    "Q8: join horizontally/vertically"
   ],
   "id": "2541321dcf773462"
  },
  {
   "metadata": {
    "ExecuteTime": {
     "end_time": "2025-10-27T00:35:42.945749Z",
     "start_time": "2025-10-27T00:35:42.943070Z"
    }
   },
   "cell_type": "code",
   "source": [
    "A = [1, 2, 3]\n",
    "B = [4, 5, 6]\n",
    "\n",
    "arrA = np.array(A)\n",
    "arrB = np.array(B)\n",
    "\n",
    "# horizontally\n",
    "print(np.array(A + B))\n",
    "\n",
    "# vertically\n",
    "print(np.reshape(np.concatenate([arrA, arrB]), (2,3)))"
   ],
   "id": "1c9d4aa4e031be24",
   "outputs": [
    {
     "name": "stdout",
     "output_type": "stream",
     "text": [
      "[1 2 3 4 5 6]\n",
      "[[1 2 3]\n",
      " [4 5 6]]\n"
     ]
    }
   ],
   "execution_count": 55
  },
  {
   "metadata": {},
   "cell_type": "markdown",
   "source": [
    "# Unique Value and sorting\n",
    "Q9: Given a number series\n",
    "- find unique value and sort\n",
    "- calculate each unique value's times of appearance"
   ],
   "id": "ef062b1ee6afbfde"
  },
  {
   "metadata": {
    "ExecuteTime": {
     "end_time": "2025-10-27T00:38:36.141236Z",
     "start_time": "2025-10-27T00:38:36.138410Z"
    }
   },
   "cell_type": "code",
   "source": [
    "lst = [2,1,2,3,1,4,3]\n",
    "\n",
    "arr = np.array(lst)\n",
    "print(np.unique(arr, return_counts = True))"
   ],
   "id": "d58d14dfff8fb028",
   "outputs": [
    {
     "name": "stdout",
     "output_type": "stream",
     "text": [
      "(array([1, 2, 3, 4]), array([2, 2, 2, 1]))\n"
     ]
    }
   ],
   "execution_count": 57
  },
  {
   "metadata": {},
   "cell_type": "markdown",
   "source": [
    "# Missing Values\n",
    "Q10: Given a number series\n",
    "- calculate number of missing values\n",
    "- replace them with 0"
   ],
   "id": "92d9aed53885afc"
  },
  {
   "metadata": {
    "ExecuteTime": {
     "end_time": "2025-10-27T00:49:54.036941Z",
     "start_time": "2025-10-27T00:49:54.032821Z"
    }
   },
   "cell_type": "code",
   "source": [
    "lst = [1, np.nan, 3, np.nan, 12]\n",
    "\n",
    "arr = np.array(lst)\n",
    "print(arr)\n",
    "\n",
    "# sum\n",
    "bool = np.isnan(arr)\n",
    "print(bool)\n",
    "process = np.where(bool, 1, 0)\n",
    "print(process)\n",
    "print(np.sum(process))\n",
    "\n",
    "# replace\n",
    "arr[np.isnan(arr)] = 0\n",
    "print(arr)"
   ],
   "id": "e541012ab30a94c4",
   "outputs": [
    {
     "name": "stdout",
     "output_type": "stream",
     "text": [
      "[ 1. nan  3. nan 12.]\n",
      "[False  True False  True False]\n",
      "[0 1 0 1 0]\n",
      "2\n",
      "[ 1.  0.  3.  0. 12.]\n"
     ]
    }
   ],
   "execution_count": 63
  },
  {
   "metadata": {},
   "cell_type": "markdown",
   "source": [
    "# sales example\n",
    "Q11: A store has a 5-day sales data and costs\n",
    "- Calculate each day's profit\n",
    "- calculate mean and standard de.. for the profit\n",
    "- find the day with max profit"
   ],
   "id": "42ee5ebf8470c62e"
  },
  {
   "metadata": {
    "ExecuteTime": {
     "end_time": "2025-10-27T00:54:27.178944Z",
     "start_time": "2025-10-27T00:54:27.175308Z"
    }
   },
   "cell_type": "code",
   "source": [
    "sales = [20, 25, 22, 30, 28]\n",
    "costs = [15, 18, 16, 22, 20]\n",
    "\n",
    "arr1 = np.array(sales)\n",
    "arr2 = np.array(costs)\n",
    "\n",
    "# profit\n",
    "print(arr1 - arr2)\n",
    "\n",
    "# mean, std\n",
    "arr = arr1 - arr2\n",
    "print(np.mean(arr), np.std(arr))\n",
    "\n",
    "# highest\n",
    "print(np.argmax(arr) + 1)"
   ],
   "id": "b1f3dfb87386ed24",
   "outputs": [
    {
     "name": "stdout",
     "output_type": "stream",
     "text": [
      "[5 7 6 8 8]\n",
      "6.8 1.16619037896906\n",
      "4\n"
     ]
    }
   ],
   "execution_count": 67
  },
  {
   "metadata": {},
   "cell_type": "markdown",
   "source": [
    "# Outlier!\n",
    "Q11: Given a data\n",
    "- Calculate Q1, Q2, Q3, IQR\n",
    "- Conduct conclusion if Outlier exists\n",
    "- Hint: +- 1.5IQR"
   ],
   "id": "60fe689632ec7903"
  },
  {
   "metadata": {
    "ExecuteTime": {
     "end_time": "2025-10-27T01:05:59.714917Z",
     "start_time": "2025-10-27T01:05:59.710612Z"
    }
   },
   "cell_type": "code",
   "source": [
    "lst = [-41, 10, 20, 30, 40, 50, 60, 70, 9999]\n",
    "\n",
    "arr = np.array(lst)\n",
    "\n",
    "# Q1 Q2 Q3 IQR\n",
    "Q1 = np.percentile(arr, 25)\n",
    "Q2 = np.median(arr)\n",
    "Q3 = np.percentile(arr, 75)\n",
    "IQR = Q3 - Q1\n",
    "print(Q1, Q2, Q3, IQR)\n",
    "\n",
    "# Fence\n",
    "left = Q1 - 1.5 * IQR\n",
    "right = Q3 + 1.5 * IQR\n",
    "print(left, right)\n",
    "arr1 = np.where((arr<left) | (arr>right), 1, 0)\n",
    "print(arr1)\n",
    "print(np.sum(arr1))"
   ],
   "id": "f6fa64fcefbb58c2",
   "outputs": [
    {
     "name": "stdout",
     "output_type": "stream",
     "text": [
      "20.0 40.0 60.0 40.0\n",
      "-40.0 120.0\n",
      "[1 0 0 0 0 0 0 0 1]\n",
      "2\n"
     ]
    }
   ],
   "execution_count": 82
  },
  {
   "metadata": {},
   "cell_type": "markdown",
   "source": "# End of NUmpy :))))))))))))))))))",
   "id": "5a560300010020ad"
  }
 ],
 "metadata": {
  "kernelspec": {
   "display_name": "Python 3",
   "language": "python",
   "name": "python3"
  },
  "language_info": {
   "codemirror_mode": {
    "name": "ipython",
    "version": 2
   },
   "file_extension": ".py",
   "mimetype": "text/x-python",
   "name": "python",
   "nbconvert_exporter": "python",
   "pygments_lexer": "ipython2",
   "version": "2.7.6"
  }
 },
 "nbformat": 4,
 "nbformat_minor": 5
}
