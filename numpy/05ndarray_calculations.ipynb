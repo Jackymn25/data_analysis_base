{
 "cells": [
  {
   "metadata": {},
   "cell_type": "markdown",
   "source": "# Ndarray -calculations",
   "id": "f434de2c4ff138bc"
  },
  {
   "metadata": {
    "ExecuteTime": {
     "end_time": "2025-10-25T00:31:17.430241Z",
     "start_time": "2025-10-25T00:31:17.426873Z"
    }
   },
   "cell_type": "code",
   "source": [
    "import numpy as np\n",
    "# + - * /\n",
    "arr1 = np.linspace(1, 3, 3, dtype = int)\n",
    "arr2 = np.linspace(4, 6, 3, dtype = int)\n",
    "print(arr1, arr2)\n",
    "print(arr1 + arr2)\n",
    "print(arr2 - arr1)\n",
    "print(arr1 * arr2)\n",
    "print(arr2 / arr1)"
   ],
   "id": "36a75a6d2e3bfbb0",
   "outputs": [
    {
     "name": "stdout",
     "output_type": "stream",
     "text": [
      "[1 2 3] [4 5 6]\n",
      "[5 7 9]\n",
      "[3 3 3]\n",
      "[ 4 10 18]\n",
      "[4.  2.5 2. ]\n"
     ]
    }
   ],
   "execution_count": 6
  },
  {
   "metadata": {
    "ExecuteTime": {
     "end_time": "2025-10-25T00:32:27.361385Z",
     "start_time": "2025-10-25T00:32:27.356695Z"
    }
   },
   "cell_type": "code",
   "source": [
    "# Recall: python\n",
    "lst1 = [1, 2, 3]\n",
    "lst2 = [4, 5, 6]\n",
    "print(lst1 + lst2)"
   ],
   "id": "77f8587eba009e8a",
   "outputs": [
    {
     "name": "stdout",
     "output_type": "stream",
     "text": [
      "[1, 2, 3, 4, 5, 6]\n"
     ]
    }
   ],
   "execution_count": 7
  },
  {
   "metadata": {
    "ExecuteTime": {
     "end_time": "2025-10-25T00:38:20.845580Z",
     "start_time": "2025-10-25T00:38:20.832736Z"
    }
   },
   "cell_type": "code",
   "source": [
    "a = np.eye(3, 3)\n",
    "b = np.array([[1, 2, 3], [4, 5, 5], [7, 8 ,9]])\n",
    "c = np.zeros((3, 3))\n",
    "print(c)\n",
    "print(a + c)\n",
    "print(a - c)\n",
    "print(a * b)\n",
    "print(c + 3)"
   ],
   "id": "68c622d28eca9984",
   "outputs": [
    {
     "name": "stdout",
     "output_type": "stream",
     "text": [
      "[[0. 0. 0.]\n",
      " [0. 0. 0.]\n",
      " [0. 0. 0.]]\n",
      "[[1. 0. 0.]\n",
      " [0. 1. 0.]\n",
      " [0. 0. 1.]]\n",
      "[[1. 0. 0.]\n",
      " [0. 1. 0.]\n",
      " [0. 0. 1.]]\n",
      "[[1. 0. 0.]\n",
      " [0. 5. 0.]\n",
      " [0. 0. 9.]]\n",
      "[[3. 3. 3.]\n",
      " [3. 3. 3.]\n",
      " [3. 3. 3.]]\n"
     ]
    }
   ],
   "execution_count": 18
  },
  {
   "metadata": {
    "ExecuteTime": {
     "end_time": "2025-10-25T00:42:46.112178Z",
     "start_time": "2025-10-25T00:42:46.108390Z"
    }
   },
   "cell_type": "code",
   "source": [
    "# broadcast\n",
    "# for single dimension if number is the same or onr of them is 1\n",
    "# boradcast = true\n",
    "# example a: 1 * 3 b: 3 * 1\n",
    "# for first \"1\" in a and \"3\" in b as there's a one\n",
    "# the same with 3 in a and 1 in b so broadcast = true\n",
    "a = np.array([1, 2, 3])\n",
    "b = np.array([[4],[5],[6]])\n",
    "'''a\n",
    "123\n",
    "123\n",
    "123\n",
    "\n",
    "b\n",
    "4 4 4\n",
    "5 5 5\n",
    "6 6 6\n",
    "'''\n",
    "print(a+b)"
   ],
   "id": "16ffdbf90a9cb567",
   "outputs": [
    {
     "name": "stdout",
     "output_type": "stream",
     "text": [
      "[[5 6 7]\n",
      " [6 7 8]\n",
      " [7 8 9]]\n"
     ]
    }
   ],
   "execution_count": 19
  },
  {
   "metadata": {},
   "cell_type": "markdown",
   "source": "## Matrix calculation",
   "id": "51364ba7133728e1"
  },
  {
   "metadata": {
    "ExecuteTime": {
     "end_time": "2025-10-25T00:49:00.479492Z",
     "start_time": "2025-10-25T00:49:00.473479Z"
    }
   },
   "cell_type": "code",
   "source": [
    "a = np.eye(3, 3)\n",
    "b = np.zeros((3, 3))\n",
    "c = np.array([[1, 2, 3], [4, 5, 5], [7, 8 ,9]])\n",
    "print(a @ c)\n",
    "print(b @ c)"
   ],
   "id": "fb070d662565bde5",
   "outputs": [
    {
     "name": "stdout",
     "output_type": "stream",
     "text": [
      "[[1. 2. 3.]\n",
      " [4. 5. 5.]\n",
      " [7. 8. 9.]]\n",
      "[[0. 0. 0.]\n",
      " [0. 0. 0.]\n",
      " [0. 0. 0.]]\n"
     ]
    }
   ],
   "execution_count": 21
  }
 ],
 "metadata": {
  "kernelspec": {
   "display_name": "Python 3",
   "language": "python",
   "name": "python3"
  },
  "language_info": {
   "codemirror_mode": {
    "name": "ipython",
    "version": 2
   },
   "file_extension": ".py",
   "mimetype": "text/x-python",
   "name": "python",
   "nbconvert_exporter": "python",
   "pygments_lexer": "ipython2",
   "version": "2.7.6"
  }
 },
 "nbformat": 4,
 "nbformat_minor": 5
}
