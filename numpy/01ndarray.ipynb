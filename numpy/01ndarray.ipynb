{
 "cells": [
  {
   "metadata": {},
   "cell_type": "markdown",
   "source": "",
   "id": "c9de9bc7a8a383d1"
  },
  {
   "metadata": {},
   "cell_type": "markdown",
   "source": [
    "# ndarray\n",
    "## 1, Properties of ndarray\n",
    "### multiple dimensions(多维性)"
   ],
   "id": "4e5fd45e10383d46"
  },
  {
   "metadata": {
    "ExecuteTime": {
     "end_time": "2025-10-22T21:36:05.817672Z",
     "start_time": "2025-10-22T21:36:05.737976Z"
    }
   },
   "cell_type": "code",
   "source": "import numpy as np",
   "id": "e08a3b93c2edb3aa",
   "outputs": [],
   "execution_count": 1
  },
  {
   "metadata": {
    "ExecuteTime": {
     "end_time": "2025-10-22T21:39:51.720024Z",
     "start_time": "2025-10-22T21:39:51.707519Z"
    }
   },
   "cell_type": "code",
   "source": [
    "array = np.array(5) # int 5 -> np 0 dim arr\n",
    "print(array)\n",
    "print(array.ndim)\n",
    "print(f\"The dimension of array is {array.ndim}\")"
   ],
   "id": "c7c0b7c993a9d3af",
   "outputs": [
    {
     "name": "stdout",
     "output_type": "stream",
     "text": [
      "5\n",
      "0\n",
      "The dimension of array is 0\n"
     ]
    }
   ],
   "execution_count": 7
  },
  {
   "metadata": {
    "ExecuteTime": {
     "end_time": "2025-10-22T21:42:51.427731Z",
     "start_time": "2025-10-22T21:42:51.423232Z"
    }
   },
   "cell_type": "code",
   "source": [
    "array = np.array([1, 2, 3]) # dim == 1\n",
    "print(array.ndim)\n",
    "print(\"The dimension of array is %s\" % array.ndim)"
   ],
   "id": "e1fcc11938b2f157",
   "outputs": [
    {
     "name": "stdout",
     "output_type": "stream",
     "text": [
      "1\n",
      "The dimension of array is 1\n"
     ]
    }
   ],
   "execution_count": 8
  },
  {
   "metadata": {},
   "cell_type": "markdown",
   "source": "Nested List -> np.array becomes dim 2",
   "id": "bf5552fe088488fc"
  },
  {
   "metadata": {},
   "cell_type": "markdown",
   "source": "# Elements in np array have the same data type",
   "id": "7cae5a5c28ce566f"
  },
  {
   "metadata": {
    "ExecuteTime": {
     "end_time": "2025-10-22T21:48:42.770386Z",
     "start_time": "2025-10-22T21:48:42.765279Z"
    }
   },
   "cell_type": "code",
   "source": [
    "array = np.array([1, \"a\"])\n",
    "print(array) # Note the result elements should have the same dtype\n",
    "print(array.ndim)\n",
    "print(\"The dimension of array is %s\" % array.ndim)"
   ],
   "id": "8efb8644e9342522",
   "outputs": [
    {
     "name": "stdout",
     "output_type": "stream",
     "text": [
      "['1' 'a']\n",
      "1\n",
      "The dimension of array is 1\n"
     ]
    }
   ],
   "execution_count": 9
  },
  {
   "metadata": {},
   "cell_type": "markdown",
   "source": "Example 2",
   "id": "90cf29baadf54074"
  },
  {
   "metadata": {
    "ExecuteTime": {
     "end_time": "2025-10-22T21:49:49.445302Z",
     "start_time": "2025-10-22T21:49:49.439750Z"
    }
   },
   "cell_type": "code",
   "source": [
    "array = np.array([1, 1.1])\n",
    "print(array) # Note the result elements should have the same dtype\n",
    "print(array.ndim)\n",
    "print(\"The dimension of array is %s\" % array.ndim)"
   ],
   "id": "e5a8c440c80c3c02",
   "outputs": [
    {
     "name": "stdout",
     "output_type": "stream",
     "text": [
      "[1.  1.1]\n",
      "1\n",
      "The dimension of array is 1\n"
     ]
    }
   ],
   "execution_count": 10
  },
  {
   "metadata": {},
   "cell_type": "code",
   "outputs": [],
   "execution_count": null,
   "source": "",
   "id": "aa1425a39a89f209"
  }
 ],
 "metadata": {
  "kernelspec": {
   "display_name": "Python 3",
   "language": "python",
   "name": "python3"
  },
  "language_info": {
   "codemirror_mode": {
    "name": "ipython",
    "version": 2
   },
   "file_extension": ".py",
   "mimetype": "text/x-python",
   "name": "python",
   "nbconvert_exporter": "python",
   "pygments_lexer": "ipython2",
   "version": "2.7.6"
  }
 },
 "nbformat": 4,
 "nbformat_minor": 5
}
