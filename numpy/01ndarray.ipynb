{
 "cells": [
  {
   "metadata": {},
   "cell_type": "markdown",
   "source": "",
   "id": "c9de9bc7a8a383d1"
  },
  {
   "metadata": {},
   "cell_type": "markdown",
   "source": [
    "# ndarray\n",
    "## 1, Properties of ndarray\n",
    "### multiple dimensions(多维性)"
   ],
   "id": "4e5fd45e10383d46"
  },
  {
   "metadata": {
    "ExecuteTime": {
     "end_time": "2025-10-22T21:36:05.817672Z",
     "start_time": "2025-10-22T21:36:05.737976Z"
    }
   },
   "cell_type": "code",
   "source": "import numpy as np",
   "id": "e08a3b93c2edb3aa",
   "outputs": [],
   "execution_count": 1
  },
  {
   "metadata": {
    "ExecuteTime": {
     "end_time": "2025-10-22T21:39:51.720024Z",
     "start_time": "2025-10-22T21:39:51.707519Z"
    }
   },
   "cell_type": "code",
   "source": [
    "array = np.array(5) # int 5 -> np 0 dim arr\n",
    "print(array)\n",
    "print(array.ndim)\n",
    "print(f\"The dimension of array is {array.ndim}\")"
   ],
   "id": "c7c0b7c993a9d3af",
   "outputs": [
    {
     "name": "stdout",
     "output_type": "stream",
     "text": [
      "5\n",
      "0\n",
      "The dimension of array is 0\n"
     ]
    }
   ],
   "execution_count": 7
  },
  {
   "metadata": {
    "ExecuteTime": {
     "end_time": "2025-10-22T21:42:51.427731Z",
     "start_time": "2025-10-22T21:42:51.423232Z"
    }
   },
   "cell_type": "code",
   "source": [
    "array = np.array([1, 2, 3]) # dim == 1\n",
    "print(array.ndim)\n",
    "print(\"The dimension of array is %s\" % array.ndim)"
   ],
   "id": "e1fcc11938b2f157",
   "outputs": [
    {
     "name": "stdout",
     "output_type": "stream",
     "text": [
      "1\n",
      "The dimension of array is 1\n"
     ]
    }
   ],
   "execution_count": 8
  },
  {
   "metadata": {},
   "cell_type": "markdown",
   "source": "Nested List -> np.array becomes dim 2",
   "id": "bf5552fe088488fc"
  },
  {
   "metadata": {},
   "cell_type": "markdown",
   "source": "# Elements in np array have the same data type",
   "id": "7cae5a5c28ce566f"
  },
  {
   "metadata": {
    "ExecuteTime": {
     "end_time": "2025-10-22T21:48:42.770386Z",
     "start_time": "2025-10-22T21:48:42.765279Z"
    }
   },
   "cell_type": "code",
   "source": [
    "array = np.array([1, \"a\"])\n",
    "print(array) # Note the result elements should have the same dtype\n",
    "print(array.ndim)\n",
    "print(\"The dimension of array is %s\" % array.ndim)"
   ],
   "id": "8efb8644e9342522",
   "outputs": [
    {
     "name": "stdout",
     "output_type": "stream",
     "text": [
      "['1' 'a']\n",
      "1\n",
      "The dimension of array is 1\n"
     ]
    }
   ],
   "execution_count": 9
  },
  {
   "metadata": {},
   "cell_type": "markdown",
   "source": "Example 2",
   "id": "90cf29baadf54074"
  },
  {
   "metadata": {
    "ExecuteTime": {
     "end_time": "2025-10-22T21:49:49.445302Z",
     "start_time": "2025-10-22T21:49:49.439750Z"
    }
   },
   "cell_type": "code",
   "source": [
    "array = np.array([1, 1.1])\n",
    "print(array) # Note the result elements should have the same dtype\n",
    "print(array.ndim)\n",
    "print(\"The dimension of array is %s\" % array.ndim)"
   ],
   "id": "e5a8c440c80c3c02",
   "outputs": [
    {
     "name": "stdout",
     "output_type": "stream",
     "text": [
      "[1.  1.1]\n",
      "1\n",
      "The dimension of array is 1\n"
     ]
    }
   ],
   "execution_count": 10
  },
  {
   "metadata": {},
   "cell_type": "markdown",
   "source": "## 2, Utils",
   "id": "f09d9be75c55caaf"
  },
  {
   "metadata": {},
   "cell_type": "markdown",
   "source": "shape, ndim, size, dtype",
   "id": "9f7bfbc466442f32"
  },
  {
   "metadata": {
    "ExecuteTime": {
     "end_time": "2025-10-22T22:01:00.377415Z",
     "start_time": "2025-10-22T22:01:00.373867Z"
    }
   },
   "cell_type": "code",
   "source": [
    "# example\n",
    "arr = np.array(100)\n",
    "print(arr)\n",
    "# shape\n",
    "print(\"Shape is \", arr.shape)\n",
    "# ndim dimensions\n",
    "print(\"Dimension: \", arr.ndim)\n",
    "# size similar to len\n",
    "print(\"size == \", arr.size)\n",
    "# dtype\n",
    "print(\"Data type is : \", arr.dtype)"
   ],
   "id": "c7e8cdfc5b05c377",
   "outputs": [
    {
     "name": "stdout",
     "output_type": "stream",
     "text": [
      "100\n",
      "Shape is  ()\n",
      "Dimension:  0\n",
      "size ==  1\n",
      "Data type is :  int64\n"
     ]
    }
   ],
   "execution_count": 11
  },
  {
   "metadata": {
    "ExecuteTime": {
     "end_time": "2025-10-22T22:05:20.044008Z",
     "start_time": "2025-10-22T22:05:20.032289Z"
    }
   },
   "cell_type": "code",
   "source": [
    "# another example\n",
    "arr = np.array([[1 , 2, 3], [4, 5, 6]])\n",
    "print(arr)\n",
    "# shape\n",
    "print(\"Shape is \", arr.shape)\n",
    "# ndim dimensions\n",
    "print(\"Dimension: \", arr.ndim)\n",
    "# size similar to len\n",
    "print(\"size == \", arr.size)\n",
    "# dtype\n",
    "print(\"Data type is : \", arr.dtype)"
   ],
   "id": "33915f8f6e99c018",
   "outputs": [
    {
     "name": "stdout",
     "output_type": "stream",
     "text": [
      "[[1 2 3]\n",
      " [4 5 6]]\n",
      "Shape is  (2, 3)\n",
      "Dimension:  2\n",
      "size ==  6\n",
      "Data type is :  int64\n"
     ]
    }
   ],
   "execution_count": 12
  },
  {
   "metadata": {},
   "cell_type": "markdown",
   "source": "T, itemsize, nbytes, flags",
   "id": "2e3290991b8957ef"
  },
  {
   "metadata": {
    "ExecuteTime": {
     "end_time": "2025-10-22T22:07:18.940946Z",
     "start_time": "2025-10-22T22:07:18.937222Z"
    }
   },
   "cell_type": "code",
   "source": [
    "# example\n",
    "arr = np.array([[1 , 2, 3], [4, 5, 6]])\n",
    "print(arr)\n",
    "arr_T = arr.T\n",
    "print(arr_T)\n",
    "# shape\n",
    "print(\"Shape is \", arr.shape)\n",
    "print(\"T_Shape is \", arr_T.shape)\n",
    "# ndim dimensions\n",
    "print(\"Dimension: \", arr.ndim)\n",
    "print(\"T_Shape is \", arr_T.ndim)"
   ],
   "id": "be669ca114094d54",
   "outputs": [
    {
     "name": "stdout",
     "output_type": "stream",
     "text": [
      "[[1 2 3]\n",
      " [4 5 6]]\n",
      "[[1 4]\n",
      " [2 5]\n",
      " [3 6]]\n",
      "Shape is  (2, 3)\n",
      "T_Shape is  (3, 2)\n",
      "Dimension:  2\n",
      "T_Shape is  2\n"
     ]
    }
   ],
   "execution_count": 14
  },
  {
   "metadata": {},
   "cell_type": "markdown",
   "source": "Other utils(not common used but for optimizations)",
   "id": "52f7bc134063212d"
  },
  {
   "metadata": {
    "ExecuteTime": {
     "end_time": "2025-10-22T22:11:40.722495Z",
     "start_time": "2025-10-22T22:11:40.718219Z"
    }
   },
   "cell_type": "code",
   "source": [
    "# example\n",
    "arr = np.array([[1 , 2, 3], [4, 5, 6]])\n",
    "\n",
    "# Other utils\n",
    "print(arr.itemsize) # each int is 8 bytes\n",
    "print(arr.nbytes)   # 6 elements 6 x 8 == 48\n",
    "print(arr.flags)    # saved continously in memory?"
   ],
   "id": "21e748a670c2703f",
   "outputs": [
    {
     "name": "stdout",
     "output_type": "stream",
     "text": [
      "8\n",
      "48\n",
      "  C_CONTIGUOUS : True\n",
      "  F_CONTIGUOUS : False\n",
      "  OWNDATA : True\n",
      "  WRITEABLE : True\n",
      "  ALIGNED : True\n",
      "  WRITEBACKIFCOPY : False\n",
      "\n"
     ]
    }
   ],
   "execution_count": 18
  },
  {
   "metadata": {
    "ExecuteTime": {
     "end_time": "2025-10-22T22:13:03.279262Z",
     "start_time": "2025-10-22T22:13:03.271267Z"
    }
   },
   "cell_type": "code",
   "source": [
    "# T shaped\n",
    "arr = arr_T\n",
    "print(arr.itemsize)\n",
    "print(arr.nbytes)\n",
    "print(arr.flags)"
   ],
   "id": "9aa5ee50554e5ac3",
   "outputs": [
    {
     "name": "stdout",
     "output_type": "stream",
     "text": [
      "8\n",
      "48\n",
      "  C_CONTIGUOUS : False\n",
      "  F_CONTIGUOUS : True\n",
      "  OWNDATA : False\n",
      "  WRITEABLE : True\n",
      "  ALIGNED : True\n",
      "  WRITEBACKIFCOPY : False\n",
      "\n"
     ]
    }
   ],
   "execution_count": 19
  }
 ],
 "metadata": {
  "kernelspec": {
   "display_name": "Python 3",
   "language": "python",
   "name": "python3"
  },
  "language_info": {
   "codemirror_mode": {
    "name": "ipython",
    "version": 2
   },
   "file_extension": ".py",
   "mimetype": "text/x-python",
   "name": "python",
   "nbconvert_exporter": "python",
   "pygments_lexer": "ipython2",
   "version": "2.7.6"
  }
 },
 "nbformat": 4,
 "nbformat_minor": 5
}
