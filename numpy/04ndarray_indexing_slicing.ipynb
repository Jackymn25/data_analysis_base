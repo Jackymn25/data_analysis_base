{
 "cells": [
  {
   "metadata": {},
   "cell_type": "markdown",
   "source": "# Indexing and Slicing in numpy",
   "id": "4c82c1c4792c95c5"
  },
  {
   "metadata": {},
   "cell_type": "markdown",
   "source": "## 1 Basic indexing & slicing",
   "id": "fd0299890c0e7709"
  },
  {
   "metadata": {
    "ExecuteTime": {
     "end_time": "2025-10-24T02:55:45.877396Z",
     "start_time": "2025-10-24T02:55:45.873845Z"
    }
   },
   "cell_type": "code",
   "source": [
    "import numpy as np\n",
    "# single dimension example\n",
    "arr = np.random.randint(1, 100, 21)\n",
    "print(arr)\n",
    "print(arr[0])\n",
    "print(arr[-1])\n",
    "print(arr[0:4])\n",
    "# the same as py"
   ],
   "id": "71ee9f3b10ab7f91",
   "outputs": [
    {
     "name": "stdout",
     "output_type": "stream",
     "text": [
      "[14 24 50 86  4 71 95 66 22  8 88 40 80 54 39 66 39 67 92 15 20]\n",
      "14\n",
      "20\n",
      "[14 24 50 86]\n"
     ]
    }
   ],
   "execution_count": 21
  },
  {
   "metadata": {},
   "cell_type": "markdown",
   "source": "## Bool way",
   "id": "e642b88d766474a0"
  },
  {
   "metadata": {
    "ExecuteTime": {
     "end_time": "2025-10-24T02:59:01.463448Z",
     "start_time": "2025-10-24T02:59:01.460026Z"
    }
   },
   "cell_type": "code",
   "source": [
    "arr = np.linspace(0, 100, 6)\n",
    "print(arr)\n",
    "print(arr[arr>=60]) # students who pass the course"
   ],
   "id": "d268e77935dbb0b0",
   "outputs": [
    {
     "name": "stdout",
     "output_type": "stream",
     "text": [
      "[  0.  20.  40.  60.  80. 100.]\n",
      "[ 60.  80. 100.]\n"
     ]
    }
   ],
   "execution_count": 25
  },
  {
   "metadata": {
    "ExecuteTime": {
     "end_time": "2025-10-24T03:14:52.706669Z",
     "start_time": "2025-10-24T03:14:52.703062Z"
    }
   },
   "cell_type": "code",
   "source": [
    "# example two\n",
    "# 500 students - normal dist\n",
    "arr = np.random.randn(1, 352) * 21 + 52\n",
    "# z = x - u / sigma x = z sigma + u\n",
    "# print(arr[0])\n",
    "arr = arr[(arr>=0) & (arr<=100)] # and\n",
    "# or is |\n",
    "# print(arr)\n",
    "arr_pass = arr[arr>=60]\n",
    "print(f\"{arr_pass.size} students passed the course this year, which is {arr_pass.size/arr.size} of the course\")"
   ],
   "id": "791d261013485b00",
   "outputs": [
    {
     "name": "stdout",
     "output_type": "stream",
     "text": [
      "114 students passed the course this year, which is 0.32386363636363635 of the course\n"
     ]
    }
   ],
   "execution_count": 63
  },
  {
   "metadata": {},
   "cell_type": "markdown",
   "source": "## Two dimensions",
   "id": "263e55b08fc08cc4"
  },
  {
   "metadata": {
    "ExecuteTime": {
     "end_time": "2025-10-24T03:18:15.645530Z",
     "start_time": "2025-10-24T03:18:15.642081Z"
    }
   },
   "cell_type": "code",
   "source": [
    "arr = np.random.randint(1, 100, (4, 8))\n",
    "print(arr)\n",
    "print(arr[0][-1]) # first row last column\n",
    "print(arr[0,-1])"
   ],
   "id": "243a9614b9084526",
   "outputs": [
    {
     "name": "stdout",
     "output_type": "stream",
     "text": [
      "[[59 39 40 38 54 49 10 34]\n",
      " [30 41 55 68 48 90 87  4]\n",
      " [13 10 29 48 90 57 10 95]\n",
      " [45 27 19 28 92  9 44 31]]\n",
      "34\n",
      "34\n"
     ]
    }
   ],
   "execution_count": 67
  },
  {
   "metadata": {
    "ExecuteTime": {
     "end_time": "2025-10-24T03:19:25.195671Z",
     "start_time": "2025-10-24T03:19:25.191937Z"
    }
   },
   "cell_type": "code",
   "source": [
    "arr = np.random.randint(1, 100, (4, 8))\n",
    "print(arr)\n",
    "print(arr[1, :]) # 2nd row\n",
    "print(arr[:, 1]) # 2nd column"
   ],
   "id": "761a006ca8e3c62c",
   "outputs": [
    {
     "name": "stdout",
     "output_type": "stream",
     "text": [
      "[[70 85 99 72 63 91  5 65]\n",
      " [82  9 91 81 37 20 24 15]\n",
      " [99 94 79 44 63 45 22 55]\n",
      " [57 96 29 42 47 92 76 34]]\n",
      "[82  9 91 81 37 20 24 15]\n",
      "[85  9 94 96]\n"
     ]
    }
   ],
   "execution_count": 69
  },
  {
   "metadata": {
    "ExecuteTime": {
     "end_time": "2025-10-24T03:22:37.755409Z",
     "start_time": "2025-10-24T03:22:37.751895Z"
    }
   },
   "cell_type": "code",
   "source": [
    "arr = np.random.randint(1, 100, (4, 8))\n",
    "print(arr)\n",
    "print(arr[arr>50]) # res diim == 1\n",
    "# example get d3rd column's > 50 data\n",
    "print(arr[:, 2][arr[:, 2] > 50])"
   ],
   "id": "3c4351df259b8d4b",
   "outputs": [
    {
     "name": "stdout",
     "output_type": "stream",
     "text": [
      "[[36 30 25 27 31 25 24 40]\n",
      " [43 51 53 26 71 13 19 29]\n",
      " [79 54 44 17 45 64 53 56]\n",
      " [38 28 81 29 12 40 76 61]]\n",
      "[51 53 71 79 54 64 53 56 81 76 61]\n",
      "[53 81]\n"
     ]
    }
   ],
   "execution_count": 71
  },
  {
   "metadata": {},
   "cell_type": "markdown",
   "source": "End",
   "id": "b83d4660389329a8"
  },
  {
   "metadata": {},
   "cell_type": "code",
   "outputs": [],
   "execution_count": null,
   "source": "",
   "id": "fc065d7e7fa27716"
  }
 ],
 "metadata": {
  "kernelspec": {
   "display_name": "Python 3",
   "language": "python",
   "name": "python3"
  },
  "language_info": {
   "codemirror_mode": {
    "name": "ipython",
    "version": 2
   },
   "file_extension": ".py",
   "mimetype": "text/x-python",
   "name": "python",
   "nbconvert_exporter": "python",
   "pygments_lexer": "ipython2",
   "version": "2.7.6"
  }
 },
 "nbformat": 4,
 "nbformat_minor": 5
}
