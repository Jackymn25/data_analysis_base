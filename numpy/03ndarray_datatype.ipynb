{
 "cells": [
  {
   "cell_type": "code",
   "execution_count": null,
   "id": "initial_id",
   "metadata": {
    "collapsed": true
   },
   "outputs": [],
   "source": [
    ""
   ]
  },
  {
   "metadata": {},
   "cell_type": "markdown",
   "source": [
    "# DataType\n",
    "- Overview\n",
    "| Bool | bool |\n",
    "| --- | --- |\n",
    "| integer | int; unit |\n",
    "| floated | float |\n",
    "| complex num| complex |"
   ],
   "id": "af2f5a4b1e9dc82d"
  },
  {
   "metadata": {
    "ExecuteTime": {
     "end_time": "2025-10-23T06:01:10.976085Z",
     "start_time": "2025-10-23T06:01:10.888447Z"
    }
   },
   "cell_type": "code",
   "source": [
    "import numpy as np\n",
    "arr = np.array([1, 0, 1, 0], dtype='bool')\n",
    "print(arr)"
   ],
   "id": "13a5e7754396be4",
   "outputs": [
    {
     "name": "stdout",
     "output_type": "stream",
     "text": [
      "[ True False  True False]\n"
     ]
    }
   ],
   "execution_count": 1
  },
  {
   "metadata": {
    "ExecuteTime": {
     "end_time": "2025-10-23T06:02:51.854495Z",
     "start_time": "2025-10-23T06:02:51.710891Z"
    }
   },
   "cell_type": "code",
   "source": [
    "arr = np.array([1, 100, 1000, 1], dtype=np.int8)\n",
    "print(arr)"
   ],
   "id": "58dc4da8a32a274e",
   "outputs": [
    {
     "ename": "OverflowError",
     "evalue": "Python integer 1000 out of bounds for int8",
     "output_type": "error",
     "traceback": [
      "\u001B[31m---------------------------------------------------------------------------\u001B[39m",
      "\u001B[31mOverflowError\u001B[39m                             Traceback (most recent call last)",
      "\u001B[36mCell\u001B[39m\u001B[36m \u001B[39m\u001B[32mIn[3]\u001B[39m\u001B[32m, line 1\u001B[39m\n\u001B[32m----> \u001B[39m\u001B[32m1\u001B[39m arr = \u001B[43mnp\u001B[49m\u001B[43m.\u001B[49m\u001B[43marray\u001B[49m\u001B[43m(\u001B[49m\u001B[43m[\u001B[49m\u001B[32;43m1\u001B[39;49m\u001B[43m,\u001B[49m\u001B[43m \u001B[49m\u001B[32;43m100\u001B[39;49m\u001B[43m,\u001B[49m\u001B[43m \u001B[49m\u001B[32;43m1000\u001B[39;49m\u001B[43m,\u001B[49m\u001B[43m \u001B[49m\u001B[32;43m1\u001B[39;49m\u001B[43m]\u001B[49m\u001B[43m,\u001B[49m\u001B[43m \u001B[49m\u001B[43mdtype\u001B[49m\u001B[43m=\u001B[49m\u001B[43mnp\u001B[49m\u001B[43m.\u001B[49m\u001B[43mint8\u001B[49m\u001B[43m)\u001B[49m\n\u001B[32m      2\u001B[39m \u001B[38;5;28mprint\u001B[39m(arr)\n",
      "\u001B[31mOverflowError\u001B[39m: Python integer 1000 out of bounds for int8"
     ]
    }
   ],
   "execution_count": 3
  },
  {
   "metadata": {
    "ExecuteTime": {
     "end_time": "2025-10-23T06:03:14.174889Z",
     "start_time": "2025-10-23T06:03:14.165722Z"
    }
   },
   "cell_type": "code",
   "source": [
    "arr = np.array([1, 100, 127, 1], dtype=np.int8)\n",
    "print(arr)"
   ],
   "id": "87f64dd8929c8425",
   "outputs": [
    {
     "name": "stdout",
     "output_type": "stream",
     "text": [
      "[  1 100 127   1]\n"
     ]
    }
   ],
   "execution_count": 4
  },
  {
   "metadata": {},
   "cell_type": "markdown",
   "source": "## End",
   "id": "e6388442f9575022"
  },
  {
   "metadata": {},
   "cell_type": "code",
   "outputs": [],
   "execution_count": null,
   "source": "",
   "id": "9a3b51bdb73a8614"
  }
 ],
 "metadata": {
  "kernelspec": {
   "display_name": "Python 3",
   "language": "python",
   "name": "python3"
  },
  "language_info": {
   "codemirror_mode": {
    "name": "ipython",
    "version": 2
   },
   "file_extension": ".py",
   "mimetype": "text/x-python",
   "name": "python",
   "nbconvert_exporter": "python",
   "pygments_lexer": "ipython2",
   "version": "2.7.6"
  }
 },
 "nbformat": 4,
 "nbformat_minor": 5
}
