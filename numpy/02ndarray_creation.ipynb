{
 "cells": [
  {
   "metadata": {},
   "cell_type": "markdown",
   "source": "#",
   "id": "49ce2f2acdc10e29"
  },
  {
   "metadata": {},
   "cell_type": "markdown",
   "source": [
    "# Method of creation - ndarray\n",
    "## 1, Basic method"
   ],
   "id": "602f6eecfbd47bb4"
  },
  {
   "metadata": {
    "ExecuteTime": {
     "end_time": "2025-10-22T22:21:21.684033Z",
     "start_time": "2025-10-22T22:21:21.641601Z"
    }
   },
   "cell_type": "code",
   "source": [
    "# Basic method\n",
    "import numpy as np\n",
    "arr = np.array([1, 2, 3])\n",
    "print(arr)"
   ],
   "id": "370e247b80f13c8e",
   "outputs": [
    {
     "name": "stdout",
     "output_type": "stream",
     "text": [
      "[1 2 3]\n"
     ]
    }
   ],
   "execution_count": 1
  },
  {
   "metadata": {
    "ExecuteTime": {
     "end_time": "2025-10-22T22:23:43.995460Z",
     "start_time": "2025-10-22T22:23:43.992461Z"
    }
   },
   "cell_type": "code",
   "source": [
    "lst = [1, 2, 3] # py list\n",
    "arr = np.array(lst)\n",
    "print(arr)"
   ],
   "id": "6a3d43c746fb8cf2",
   "outputs": [
    {
     "name": "stdout",
     "output_type": "stream",
     "text": [
      "[1 2 3]\n"
     ]
    }
   ],
   "execution_count": 3
  },
  {
   "metadata": {
    "ExecuteTime": {
     "end_time": "2025-10-22T22:25:46.293173Z",
     "start_time": "2025-10-22T22:25:46.283476Z"
    }
   },
   "cell_type": "code",
   "source": [
    "# Common used peremetre - dtype\n",
    "lst = [1, 2, 3, 4, 5, 6]\n",
    "arr = np.array(lst, dtype = np.float64)\n",
    "print(arr)"
   ],
   "id": "47b291bd774f7f91",
   "outputs": [
    {
     "name": "stdout",
     "output_type": "stream",
     "text": [
      "[1. 2. 3. 4. 5. 6.]\n"
     ]
    }
   ],
   "execution_count": 4
  },
  {
   "metadata": {
    "ExecuteTime": {
     "end_time": "2025-10-22T22:29:03.513241Z",
     "start_time": "2025-10-22T22:29:03.508772Z"
    }
   },
   "cell_type": "code",
   "source": [
    "# copy\n",
    "arr_ = np.copy(arr)\n",
    "print(arr_)"
   ],
   "id": "91f34895f24ad293",
   "outputs": [
    {
     "name": "stdout",
     "output_type": "stream",
     "text": [
      "[1. 2. 3. 4. 5. 6.]\n"
     ]
    }
   ],
   "execution_count": 5
  },
  {
   "metadata": {
    "ExecuteTime": {
     "end_time": "2025-10-22T22:33:32.846803Z",
     "start_time": "2025-10-22T22:33:32.841285Z"
    }
   },
   "cell_type": "code",
   "source": [
    "# Note this copy method is a deep copy when its dtype is numerical values\n",
    "arr_a = np.array([[1, 2, 3]])\n",
    "print(arr_a)\n",
    "arr_b = np.copy(arr_a)\n",
    "arr_a[0][0] = 99\n",
    "print(arr_a)\n",
    "print(arr_b)"
   ],
   "id": "3317e8283f83b2f5",
   "outputs": [
    {
     "name": "stdout",
     "output_type": "stream",
     "text": [
      "[[1 2 3]]\n",
      "[[99  2  3]]\n",
      "[[1 2 3]]\n"
     ]
    }
   ],
   "execution_count": 10
  },
  {
   "metadata": {
    "ExecuteTime": {
     "end_time": "2025-10-22T22:43:55.985814Z",
     "start_time": "2025-10-22T22:43:55.981016Z"
    }
   },
   "cell_type": "code",
   "source": "# However when its object type, copy is shallow in some version",
   "id": "5c5d4be9c5f9bebe",
   "outputs": [],
   "execution_count": 17
  },
  {
   "metadata": {},
   "cell_type": "markdown",
   "source": "## 2, Pre-set the shape of array",
   "id": "76092c311db132af"
  },
  {
   "metadata": {
    "ExecuteTime": {
     "end_time": "2025-10-22T22:48:57.338175Z",
     "start_time": "2025-10-22T22:48:57.324495Z"
    }
   },
   "cell_type": "code",
   "source": [
    "# all 0s, 1s, constants, uninitialized\n",
    "# 1: all 0s\n",
    "arr = np.zeros((2, 3)) # 2x3 zero matrix\n",
    "print(arr)\n",
    "print(arr.dtype)\n",
    "arr = np.zeros((2, 3), dtype = int) # 2x3 zero matrix(int)\n",
    "print(arr)\n",
    "print(arr.dtype)"
   ],
   "id": "187902aa8e21e613",
   "outputs": [
    {
     "name": "stdout",
     "output_type": "stream",
     "text": [
      "[[0. 0. 0.]\n",
      " [0. 0. 0.]]\n",
      "float64\n",
      "[[0 0 0]\n",
      " [0 0 0]]\n",
      "int64\n"
     ]
    }
   ],
   "execution_count": 20
  },
  {
   "metadata": {
    "ExecuteTime": {
     "end_time": "2025-10-22T22:50:21.306562Z",
     "start_time": "2025-10-22T22:50:21.300284Z"
    }
   },
   "cell_type": "code",
   "source": [
    "# 1: all 0s example dim == 1\n",
    "arr = np.zeros((15,))\n",
    "print(arr)"
   ],
   "id": "9cd21376372b2eac",
   "outputs": [
    {
     "name": "stdout",
     "output_type": "stream",
     "text": [
      "[0. 0. 0. 0. 0. 0. 0. 0. 0. 0. 0. 0. 0. 0. 0.]\n"
     ]
    }
   ],
   "execution_count": 21
  },
  {
   "metadata": {
    "ExecuteTime": {
     "end_time": "2025-10-22T22:51:48.368810Z",
     "start_time": "2025-10-22T22:51:48.363935Z"
    }
   },
   "cell_type": "code",
   "source": [
    "# 2: all 1s\n",
    "arr = np.ones((4, 6))\n",
    "print(arr)"
   ],
   "id": "c1992402dac0b8f0",
   "outputs": [
    {
     "name": "stdout",
     "output_type": "stream",
     "text": [
      "[[1. 1. 1. 1. 1. 1.]\n",
      " [1. 1. 1. 1. 1. 1.]\n",
      " [1. 1. 1. 1. 1. 1.]\n",
      " [1. 1. 1. 1. 1. 1.]]\n"
     ]
    }
   ],
   "execution_count": 22
  },
  {
   "metadata": {
    "ExecuteTime": {
     "end_time": "2025-10-22T22:55:39.159992Z",
     "start_time": "2025-10-22T22:55:39.156088Z"
    }
   },
   "cell_type": "code",
   "source": [
    "# 3: constants\n",
    "arr = np.full((3, 4), \"Data Science\")\n",
    "print(arr)"
   ],
   "id": "6e90a4654c8a0a79",
   "outputs": [
    {
     "name": "stdout",
     "output_type": "stream",
     "text": [
      "[['Data Science' 'Data Science' 'Data Science' 'Data Science']\n",
      " ['Data Science' 'Data Science' 'Data Science' 'Data Science']\n",
      " ['Data Science' 'Data Science' 'Data Science' 'Data Science']]\n"
     ]
    }
   ],
   "execution_count": 53
  },
  {
   "metadata": {
    "ExecuteTime": {
     "end_time": "2025-10-22T22:54:05.254581Z",
     "start_time": "2025-10-22T22:54:05.244480Z"
    }
   },
   "cell_type": "code",
   "source": [
    "# 4 : uninitialized\n",
    "arr = np.empty((3, 9))\n",
    "print(arr)"
   ],
   "id": "dde770488bf7de0a",
   "outputs": [
    {
     "name": "stdout",
     "output_type": "stream",
     "text": [
      "[[6.23042070e-307 3.56043053e-307 1.60219306e-306 2.44763557e-307\n",
      "  1.69119330e-306 1.78019625e-306 1.11260280e-306 3.56043054e-307\n",
      "  7.56595733e-307]\n",
      " [1.00131040e-307 8.34424766e-308 6.23038675e-307 1.02361342e-306\n",
      "  6.23059726e-307 1.06811422e-306 8.45558624e-307 9.34601642e-307\n",
      "  1.60219035e-306]\n",
      " [2.22522597e-306 6.23060744e-307 8.90111708e-307 1.11260144e-306\n",
      "  6.23059726e-307 1.33511562e-306 6.89805151e-307 2.56765117e-312\n",
      "  2.56765117e-312]]\n"
     ]
    }
   ],
   "execution_count": 52
  },
  {
   "metadata": {
    "ExecuteTime": {
     "end_time": "2025-10-22T22:58:15.358765Z",
     "start_time": "2025-10-22T22:58:15.349020Z"
    }
   },
   "cell_type": "code",
   "source": [
    "# Optional Util\n",
    "arr = np.ones((4, 6), dtype = int)\n",
    "arr_1 = np.zeros_like(arr) # copy the shape,dtype but fill with 0s\n",
    "print(arr_1)"
   ],
   "id": "7e867acb763f0c3f",
   "outputs": [
    {
     "name": "stdout",
     "output_type": "stream",
     "text": [
      "[[0 0 0 0 0 0]\n",
      " [0 0 0 0 0 0]\n",
      " [0 0 0 0 0 0]\n",
      " [0 0 0 0 0 0]]\n"
     ]
    }
   ],
   "execution_count": 57
  }
 ],
 "metadata": {
  "kernelspec": {
   "display_name": "Python 3",
   "language": "python",
   "name": "python3"
  },
  "language_info": {
   "codemirror_mode": {
    "name": "ipython",
    "version": 2
   },
   "file_extension": ".py",
   "mimetype": "text/x-python",
   "name": "python",
   "nbconvert_exporter": "python",
   "pygments_lexer": "ipython2",
   "version": "2.7.6"
  }
 },
 "nbformat": 4,
 "nbformat_minor": 5
}
