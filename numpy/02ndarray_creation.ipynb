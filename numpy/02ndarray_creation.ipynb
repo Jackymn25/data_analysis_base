{
 "cells": [
  {
   "metadata": {},
   "cell_type": "markdown",
   "source": "#",
   "id": "49ce2f2acdc10e29"
  },
  {
   "metadata": {},
   "cell_type": "markdown",
   "source": [
    "# Method of creation - ndarray\n",
    "## 1, Basic method"
   ],
   "id": "602f6eecfbd47bb4"
  },
  {
   "metadata": {
    "ExecuteTime": {
     "end_time": "2025-10-22T22:21:21.684033Z",
     "start_time": "2025-10-22T22:21:21.641601Z"
    }
   },
   "cell_type": "code",
   "source": [
    "# Basic method\n",
    "import numpy as np\n",
    "arr = np.array([1, 2, 3])\n",
    "print(arr)"
   ],
   "id": "370e247b80f13c8e",
   "outputs": [
    {
     "name": "stdout",
     "output_type": "stream",
     "text": [
      "[1 2 3]\n"
     ]
    }
   ],
   "execution_count": 1
  },
  {
   "metadata": {
    "ExecuteTime": {
     "end_time": "2025-10-22T22:23:43.995460Z",
     "start_time": "2025-10-22T22:23:43.992461Z"
    }
   },
   "cell_type": "code",
   "source": [
    "lst = [1, 2, 3] # py list\n",
    "arr = np.array(lst)\n",
    "print(arr)"
   ],
   "id": "6a3d43c746fb8cf2",
   "outputs": [
    {
     "name": "stdout",
     "output_type": "stream",
     "text": [
      "[1 2 3]\n"
     ]
    }
   ],
   "execution_count": 3
  },
  {
   "metadata": {
    "ExecuteTime": {
     "end_time": "2025-10-22T22:25:46.293173Z",
     "start_time": "2025-10-22T22:25:46.283476Z"
    }
   },
   "cell_type": "code",
   "source": [
    "# Common used peremetre - dtype\n",
    "lst = [1, 2, 3, 4, 5, 6]\n",
    "arr = np.array(lst, dtype = np.float64)\n",
    "print(arr)"
   ],
   "id": "47b291bd774f7f91",
   "outputs": [
    {
     "name": "stdout",
     "output_type": "stream",
     "text": [
      "[1. 2. 3. 4. 5. 6.]\n"
     ]
    }
   ],
   "execution_count": 4
  },
  {
   "metadata": {
    "ExecuteTime": {
     "end_time": "2025-10-22T22:29:03.513241Z",
     "start_time": "2025-10-22T22:29:03.508772Z"
    }
   },
   "cell_type": "code",
   "source": [
    "# copy\n",
    "arr_ = np.copy(arr)\n",
    "print(arr_)"
   ],
   "id": "91f34895f24ad293",
   "outputs": [
    {
     "name": "stdout",
     "output_type": "stream",
     "text": [
      "[1. 2. 3. 4. 5. 6.]\n"
     ]
    }
   ],
   "execution_count": 5
  },
  {
   "metadata": {
    "ExecuteTime": {
     "end_time": "2025-10-22T22:33:32.846803Z",
     "start_time": "2025-10-22T22:33:32.841285Z"
    }
   },
   "cell_type": "code",
   "source": [
    "# Note this copy method is a deep copy when its dtype is numerical values\n",
    "arr_a = np.array([[1, 2, 3]])\n",
    "print(arr_a)\n",
    "arr_b = np.copy(arr_a)\n",
    "arr_a[0][0] = 99\n",
    "print(arr_a)\n",
    "print(arr_b)"
   ],
   "id": "3317e8283f83b2f5",
   "outputs": [
    {
     "name": "stdout",
     "output_type": "stream",
     "text": [
      "[[1 2 3]]\n",
      "[[99  2  3]]\n",
      "[[1 2 3]]\n"
     ]
    }
   ],
   "execution_count": 10
  },
  {
   "metadata": {
    "ExecuteTime": {
     "end_time": "2025-10-22T22:43:55.985814Z",
     "start_time": "2025-10-22T22:43:55.981016Z"
    }
   },
   "cell_type": "code",
   "source": "# However when its object type, copy is shallow in some version",
   "id": "5c5d4be9c5f9bebe",
   "outputs": [],
   "execution_count": 17
  },
  {
   "metadata": {},
   "cell_type": "markdown",
   "source": "## 2, Pre-set the shape of array",
   "id": "76092c311db132af"
  },
  {
   "metadata": {
    "ExecuteTime": {
     "end_time": "2025-10-22T22:48:57.338175Z",
     "start_time": "2025-10-22T22:48:57.324495Z"
    }
   },
   "cell_type": "code",
   "source": [
    "# all 0s, 1s, constants, uninitialized\n",
    "# 1: all 0s\n",
    "arr = np.zeros((2, 3)) # 2x3 zero matrix\n",
    "print(arr)\n",
    "print(arr.dtype)\n",
    "arr = np.zeros((2, 3), dtype = int) # 2x3 zero matrix(int)\n",
    "print(arr)\n",
    "print(arr.dtype)"
   ],
   "id": "187902aa8e21e613",
   "outputs": [
    {
     "name": "stdout",
     "output_type": "stream",
     "text": [
      "[[0. 0. 0.]\n",
      " [0. 0. 0.]]\n",
      "float64\n",
      "[[0 0 0]\n",
      " [0 0 0]]\n",
      "int64\n"
     ]
    }
   ],
   "execution_count": 20
  },
  {
   "metadata": {
    "ExecuteTime": {
     "end_time": "2025-10-22T22:50:21.306562Z",
     "start_time": "2025-10-22T22:50:21.300284Z"
    }
   },
   "cell_type": "code",
   "source": [
    "# 1: all 0s example dim == 1\n",
    "arr = np.zeros((15,))\n",
    "print(arr)"
   ],
   "id": "9cd21376372b2eac",
   "outputs": [
    {
     "name": "stdout",
     "output_type": "stream",
     "text": [
      "[0. 0. 0. 0. 0. 0. 0. 0. 0. 0. 0. 0. 0. 0. 0.]\n"
     ]
    }
   ],
   "execution_count": 21
  },
  {
   "metadata": {
    "ExecuteTime": {
     "end_time": "2025-10-22T22:51:48.368810Z",
     "start_time": "2025-10-22T22:51:48.363935Z"
    }
   },
   "cell_type": "code",
   "source": [
    "# 2: all 1s\n",
    "arr = np.ones((4, 6))\n",
    "print(arr)"
   ],
   "id": "c1992402dac0b8f0",
   "outputs": [
    {
     "name": "stdout",
     "output_type": "stream",
     "text": [
      "[[1. 1. 1. 1. 1. 1.]\n",
      " [1. 1. 1. 1. 1. 1.]\n",
      " [1. 1. 1. 1. 1. 1.]\n",
      " [1. 1. 1. 1. 1. 1.]]\n"
     ]
    }
   ],
   "execution_count": 22
  },
  {
   "metadata": {
    "ExecuteTime": {
     "end_time": "2025-10-22T22:55:39.159992Z",
     "start_time": "2025-10-22T22:55:39.156088Z"
    }
   },
   "cell_type": "code",
   "source": [
    "# 3: constants\n",
    "arr = np.full((3, 4), \"Data Science\")\n",
    "print(arr)"
   ],
   "id": "6e90a4654c8a0a79",
   "outputs": [
    {
     "name": "stdout",
     "output_type": "stream",
     "text": [
      "[['Data Science' 'Data Science' 'Data Science' 'Data Science']\n",
      " ['Data Science' 'Data Science' 'Data Science' 'Data Science']\n",
      " ['Data Science' 'Data Science' 'Data Science' 'Data Science']]\n"
     ]
    }
   ],
   "execution_count": 53
  },
  {
   "metadata": {
    "ExecuteTime": {
     "end_time": "2025-10-22T22:54:05.254581Z",
     "start_time": "2025-10-22T22:54:05.244480Z"
    }
   },
   "cell_type": "code",
   "source": [
    "# 4 : uninitialized\n",
    "arr = np.empty((3, 9))\n",
    "print(arr)"
   ],
   "id": "dde770488bf7de0a",
   "outputs": [
    {
     "name": "stdout",
     "output_type": "stream",
     "text": [
      "[[6.23042070e-307 3.56043053e-307 1.60219306e-306 2.44763557e-307\n",
      "  1.69119330e-306 1.78019625e-306 1.11260280e-306 3.56043054e-307\n",
      "  7.56595733e-307]\n",
      " [1.00131040e-307 8.34424766e-308 6.23038675e-307 1.02361342e-306\n",
      "  6.23059726e-307 1.06811422e-306 8.45558624e-307 9.34601642e-307\n",
      "  1.60219035e-306]\n",
      " [2.22522597e-306 6.23060744e-307 8.90111708e-307 1.11260144e-306\n",
      "  6.23059726e-307 1.33511562e-306 6.89805151e-307 2.56765117e-312\n",
      "  2.56765117e-312]]\n"
     ]
    }
   ],
   "execution_count": 52
  },
  {
   "metadata": {
    "ExecuteTime": {
     "end_time": "2025-10-22T22:58:15.358765Z",
     "start_time": "2025-10-22T22:58:15.349020Z"
    }
   },
   "cell_type": "code",
   "source": [
    "# Optional Util\n",
    "arr = np.ones((4, 6), dtype = int)\n",
    "arr_1 = np.zeros_like(arr) # copy the shape,dtype but fill with 0s\n",
    "print(arr_1)"
   ],
   "id": "7e867acb763f0c3f",
   "outputs": [
    {
     "name": "stdout",
     "output_type": "stream",
     "text": [
      "[[0 0 0 0 0 0]\n",
      " [0 0 0 0 0 0]\n",
      " [0 0 0 0 0 0]\n",
      " [0 0 0 0 0 0]]\n"
     ]
    }
   ],
   "execution_count": 57
  },
  {
   "metadata": {},
   "cell_type": "markdown",
   "source": "## 3, series d = constant(等差数列 )",
   "id": "812addd0d77e2e7b"
  },
  {
   "metadata": {
    "ExecuteTime": {
     "end_time": "2025-10-23T00:56:12.371014Z",
     "start_time": "2025-10-23T00:56:12.367359Z"
    }
   },
   "cell_type": "code",
   "source": [
    "arr = np.arange(0, 10, 2) # [0, 10)\n",
    "print(arr)"
   ],
   "id": "6de5eb4e900177e0",
   "outputs": [
    {
     "name": "stdout",
     "output_type": "stream",
     "text": [
      "[0 2 4 6 8]\n"
     ]
    }
   ],
   "execution_count": 59
  },
  {
   "metadata": {
    "ExecuteTime": {
     "end_time": "2025-10-23T00:58:38.637430Z",
     "start_time": "2025-10-23T00:58:38.629920Z"
    }
   },
   "cell_type": "code",
   "source": [
    "arr = np.linspace(1, 10, 5) # divide into 5 numbers, 4 parts\n",
    "print(arr) # always includes left right part [1, 10]"
   ],
   "id": "a181d4496e5e8203",
   "outputs": [
    {
     "name": "stdout",
     "output_type": "stream",
     "text": [
      "[ 1.    3.25  5.5   7.75 10.  ]\n"
     ]
    }
   ],
   "execution_count": 60
  },
  {
   "metadata": {
    "ExecuteTime": {
     "end_time": "2025-10-23T01:01:26.167048Z",
     "start_time": "2025-10-23T01:01:26.161155Z"
    }
   },
   "cell_type": "code",
   "source": [
    "# example print[0 25 50 75 100]\n",
    "arr = np.arange(0, 101, 25)\n",
    "print(arr)\n",
    "\n",
    "arr = np.linspace(0, 100, 5, dtype=int)\n",
    "print(arr)"
   ],
   "id": "2a1681f1ef29eb50",
   "outputs": [
    {
     "name": "stdout",
     "output_type": "stream",
     "text": [
      "[  0  25  50  75 100]\n",
      "[  0  25  50  75 100]\n"
     ]
    }
   ],
   "execution_count": 62
  },
  {
   "metadata": {
    "ExecuteTime": {
     "end_time": "2025-10-23T01:21:30.784190Z",
     "start_time": "2025-10-23T01:21:30.778842Z"
    }
   },
   "cell_type": "code",
   "source": [
    "# generate a geometric series\n",
    "arr = np.logspace(0, 4, 5, base=2) # 0 -> 4 divide into 5, so 0 1 2 3 4 so 2^0, 2^1...2^5\n",
    "print(arr)\n",
    "# alternative way\n",
    "arr = np.geomspace(1, 16, 5)\n",
    "print(arr)"
   ],
   "id": "479d6d5d86a3966f",
   "outputs": [
    {
     "name": "stdout",
     "output_type": "stream",
     "text": [
      "[ 1.  2.  4.  8. 16.]\n",
      "[ 1.  2.  4.  8. 16.]\n"
     ]
    }
   ],
   "execution_count": 68
  },
  {
   "metadata": {},
   "cell_type": "markdown",
   "source": [
    "## 3, Special matrices\n",
    "Recall:\n",
    "1, scalar is a numerical value   e.g value = 1\n",
    "2, vector looks like list        e.g value = [1, 2, 3]\n",
    "3, matrix (dim == 2)\n",
    "4, tensor (dim >= 3)"
   ],
   "id": "72b9f9451a21360f"
  },
  {
   "metadata": {
    "ExecuteTime": {
     "end_time": "2025-10-23T01:31:32.689090Z",
     "start_time": "2025-10-23T01:31:32.686586Z"
    }
   },
   "cell_type": "code",
   "source": [
    "# 1 unit matrix (can be not n by n)\n",
    "arr = np.eye(3, 7, dtype = int)\n",
    "print(arr)"
   ],
   "id": "e5d5c96405d67bae",
   "outputs": [
    {
     "name": "stdout",
     "output_type": "stream",
     "text": [
      "[[1 0 0 0 0 0 0]\n",
      " [0 1 0 0 0 0 0]\n",
      " [0 0 1 0 0 0 0]]\n"
     ]
    }
   ],
   "execution_count": 71
  },
  {
   "metadata": {
    "ExecuteTime": {
     "end_time": "2025-10-23T01:32:56.551993Z",
     "start_time": "2025-10-23T01:32:56.548433Z"
    }
   },
   "cell_type": "code",
   "source": [
    "# 2 diagonal matrix\n",
    "arr = np.diag([1, 2, 3])\n",
    "print(arr)"
   ],
   "id": "52dccd178138cf3",
   "outputs": [
    {
     "name": "stdout",
     "output_type": "stream",
     "text": [
      "[[1 0 0]\n",
      " [0 2 0]\n",
      " [0 0 3]]\n"
     ]
    }
   ],
   "execution_count": 72
  },
  {
   "metadata": {
    "ExecuteTime": {
     "end_time": "2025-10-23T01:36:34.960668Z",
     "start_time": "2025-10-23T01:36:34.957851Z"
    }
   },
   "cell_type": "code",
   "source": [
    "# 3 random matrix [0, 1) is value range\n",
    "arr = np.random.rand(2, 3)\n",
    "print(arr)"
   ],
   "id": "b896b2bd6722209c",
   "outputs": [
    {
     "name": "stdout",
     "output_type": "stream",
     "text": [
      "[[0.16178384 0.76183494 0.02083745]\n",
      " [0.55549769 0.76845204 0.75479479]]\n"
     ]
    }
   ],
   "execution_count": 90
  },
  {
   "metadata": {
    "ExecuteTime": {
     "end_time": "2025-10-23T01:39:08.665948Z",
     "start_time": "2025-10-23T01:39:08.661095Z"
    }
   },
   "cell_type": "code",
   "source": [
    "# uniform Dist - Unif(theta1, theta2)\n",
    "arr = np.random.uniform(3, 9, (2,3)) # theta1 theta2, shape\n",
    "print(arr)"
   ],
   "id": "e62aeed399bc0c15",
   "outputs": [
    {
     "name": "stdout",
     "output_type": "stream",
     "text": [
      "[[5.47323567 3.42853295 6.91610515]\n",
      " [4.99529403 5.48582001 6.82718744]]\n"
     ]
    }
   ],
   "execution_count": 91
  },
  {
   "metadata": {
    "ExecuteTime": {
     "end_time": "2025-10-23T01:40:37.487587Z",
     "start_time": "2025-10-23T01:40:37.484631Z"
    }
   },
   "cell_type": "code",
   "source": [
    "# random int\n",
    "arr = np.random.randint(1, 10, (2,3)) # start end, shape [1, 10)\n",
    "print(arr)"
   ],
   "id": "a7f4d1c927cc4797",
   "outputs": [
    {
     "name": "stdout",
     "output_type": "stream",
     "text": [
      "[[2 8 1]\n",
      " [5 9 8]]\n"
     ]
    }
   ],
   "execution_count": 130
  },
  {
   "metadata": {
    "ExecuteTime": {
     "end_time": "2025-10-23T01:43:16.913971Z",
     "start_time": "2025-10-23T01:43:16.910215Z"
    }
   },
   "cell_type": "code",
   "source": [
    "# random but normal dist N(0, 1) value is this func is z-score\n",
    "arr = np.random.randn(2, 3) # peremetre is shape\n",
    "print(arr)"
   ],
   "id": "b0f0b52dfcc2ec8d",
   "outputs": [
    {
     "name": "stdout",
     "output_type": "stream",
     "text": [
      "[[ 1.10951908  0.44208801 -1.30496506]\n",
      " [ 0.49483643 -1.22919429 -0.8983229 ]]\n"
     ]
    }
   ],
   "execution_count": 131
  },
  {
   "metadata": {
    "ExecuteTime": {
     "end_time": "2025-10-23T01:47:05.277586Z",
     "start_time": "2025-10-23T01:47:05.274609Z"
    }
   },
   "cell_type": "code",
   "source": [
    "# with seed random\n",
    "np.random.seed(20)\n",
    "arr = np.random.randint(0, 10, (3, 3))\n",
    "print(arr)"
   ],
   "id": "41bce93fa5749a64",
   "outputs": [
    {
     "name": "stdout",
     "output_type": "stream",
     "text": [
      "[[3 9 4]\n",
      " [6 7 2]\n",
      " [0 6 8]]\n"
     ]
    }
   ],
   "execution_count": 134
  },
  {
   "metadata": {},
   "cell_type": "markdown",
   "source": "## End",
   "id": "1047472d2487219c"
  },
  {
   "metadata": {},
   "cell_type": "code",
   "outputs": [],
   "execution_count": null,
   "source": "",
   "id": "dc9544efb81d571a"
  }
 ],
 "metadata": {
  "kernelspec": {
   "display_name": "Python 3",
   "language": "python",
   "name": "python3"
  },
  "language_info": {
   "codemirror_mode": {
    "name": "ipython",
    "version": 2
   },
   "file_extension": ".py",
   "mimetype": "text/x-python",
   "name": "python",
   "nbconvert_exporter": "python",
   "pygments_lexer": "ipython2",
   "version": "2.7.6"
  }
 },
 "nbformat": 4,
 "nbformat_minor": 5
}
