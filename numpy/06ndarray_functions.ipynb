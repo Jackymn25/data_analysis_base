{
 "cells": [
  {
   "metadata": {},
   "cell_type": "markdown",
   "source": "# Functions in ndarray",
   "id": "c8b3d0546ba9b74"
  },
  {
   "metadata": {},
   "cell_type": "markdown",
   "source": "## Math functions",
   "id": "694a0eba7a7cd6c2"
  },
  {
   "metadata": {
    "ExecuteTime": {
     "end_time": "2025-10-25T01:02:54.868579Z",
     "start_time": "2025-10-25T01:02:54.864400Z"
    }
   },
   "cell_type": "code",
   "source": [
    "import numpy as np\n",
    "arr = np.array([1, 4, 9], dtype=int)\n",
    "# sqrt - > float\n",
    "print(np.sqrt(arr))\n",
    "# exponential e^x\n",
    "arr = np.array([0, 1], dtype=int)\n",
    "print(np.exp(arr))\n",
    "# Ln(x)\n",
    "print(np.log(2.71)) # 2.71 -> e\n",
    "# sin cos\n",
    "print(np.sin(np.pi/6))\n",
    "print(np.cos(np.pi/3))\n",
    "# abs\n",
    "arr = np.array([1,-2,-3])\n",
    "print(np.abs(arr))\n",
    "# a^b\n",
    "print(np.power(arr, 3))\n",
    "# rounding\n",
    "arr = np.array([1.1,-2.4,-.5, 3.5])\n",
    "print(np.round(arr))\n",
    "# ceiling floor\n",
    "print(np.ceil(arr))\n",
    "print(np.floor(arr))"
   ],
   "id": "19ba34e04cc44f39",
   "outputs": [
    {
     "name": "stdout",
     "output_type": "stream",
     "text": [
      "[1. 2. 3.]\n",
      "[1.         2.71828183]\n",
      "0.9969486348916096\n",
      "0.49999999999999994\n",
      "0.5000000000000001\n",
      "[1 2 3]\n",
      "[  1  -8 -27]\n",
      "[ 1. -2. -0.  4.]\n",
      "[ 2. -2. -0.  4.]\n",
      "[ 1. -3. -1.  3.]\n"
     ]
    }
   ],
   "execution_count": 17
  },
  {
   "metadata": {
    "ExecuteTime": {
     "end_time": "2025-10-25T01:03:56.663231Z",
     "start_time": "2025-10-25T01:03:56.659114Z"
    }
   },
   "cell_type": "code",
   "source": [
    "# check for NaN (missing value)\n",
    "np.isnan([1, 2, np.nan, 9])"
   ],
   "id": "ce501c1541db2ceb",
   "outputs": [
    {
     "data": {
      "text/plain": [
       "array([False, False,  True, False])"
      ]
     },
     "execution_count": 18,
     "metadata": {},
     "output_type": "execute_result"
    }
   ],
   "execution_count": 18
  }
 ],
 "metadata": {
  "kernelspec": {
   "display_name": "Python 3",
   "language": "python",
   "name": "python3"
  },
  "language_info": {
   "codemirror_mode": {
    "name": "ipython",
    "version": 2
   },
   "file_extension": ".py",
   "mimetype": "text/x-python",
   "name": "python",
   "nbconvert_exporter": "python",
   "pygments_lexer": "ipython2",
   "version": "2.7.6"
  }
 },
 "nbformat": 4,
 "nbformat_minor": 5
}
