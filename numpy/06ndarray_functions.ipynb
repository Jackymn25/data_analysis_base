{
 "cells": [
  {
   "metadata": {},
   "cell_type": "markdown",
   "source": "# Functions in ndarray",
   "id": "c8b3d0546ba9b74"
  },
  {
   "metadata": {},
   "cell_type": "markdown",
   "source": "## Math functions",
   "id": "694a0eba7a7cd6c2"
  },
  {
   "metadata": {
    "ExecuteTime": {
     "end_time": "2025-10-26T01:30:21.424350Z",
     "start_time": "2025-10-26T01:30:21.345091Z"
    }
   },
   "cell_type": "code",
   "source": [
    "import numpy as np\n",
    "arr = np.array([1, 4, 9], dtype=int)\n",
    "# sqrt - > float\n",
    "print(np.sqrt(arr))\n",
    "# exponential e^x\n",
    "arr = np.array([0, 1], dtype=int)\n",
    "print(np.exp(arr))\n",
    "# Ln(x)\n",
    "print(np.log(2.71)) # 2.71 -> e\n",
    "# sin cos\n",
    "print(np.sin(np.pi/6))\n",
    "print(np.cos(np.pi/3))\n",
    "# abs\n",
    "arr = np.array([1,-2,-3])\n",
    "print(np.abs(arr))\n",
    "# a^b\n",
    "print(np.power(arr, 3))\n",
    "# rounding\n",
    "arr = np.array([1.1,-2.4,-.5, 3.5])\n",
    "print(np.round(arr))\n",
    "# ceiling floor\n",
    "print(np.ceil(arr))\n",
    "print(np.floor(arr))"
   ],
   "id": "19ba34e04cc44f39",
   "outputs": [
    {
     "name": "stdout",
     "output_type": "stream",
     "text": [
      "[1. 2. 3.]\n",
      "[1.         2.71828183]\n",
      "0.9969486348916096\n",
      "0.49999999999999994\n",
      "0.5000000000000001\n",
      "[1 2 3]\n",
      "[  1  -8 -27]\n",
      "[ 1. -2. -0.  4.]\n",
      "[ 2. -2. -0.  4.]\n",
      "[ 1. -3. -1.  3.]\n"
     ]
    }
   ],
   "execution_count": 2
  },
  {
   "metadata": {
    "ExecuteTime": {
     "end_time": "2025-10-25T01:03:56.663231Z",
     "start_time": "2025-10-25T01:03:56.659114Z"
    }
   },
   "cell_type": "code",
   "source": [
    "# check for NaN (missing value)\n",
    "np.isnan([1, 2, np.nan, 9])"
   ],
   "id": "ce501c1541db2ceb",
   "outputs": [
    {
     "data": {
      "text/plain": [
       "array([False, False,  True, False])"
      ]
     },
     "execution_count": 18,
     "metadata": {},
     "output_type": "execute_result"
    }
   ],
   "execution_count": 18
  },
  {
   "metadata": {},
   "cell_type": "markdown",
   "source": "## Stats functions",
   "id": "a6fe6da8c6b27d87"
  },
  {
   "metadata": {
    "ExecuteTime": {
     "end_time": "2025-10-26T01:30:23.459525Z",
     "start_time": "2025-10-26T01:30:23.432186Z"
    }
   },
   "cell_type": "code",
   "source": [
    "# sum, mean, median, sd, sd^2, max, min, percentile, ....\n",
    "arr = np.random.randint(1, 20, 8)\n",
    "print(arr)"
   ],
   "id": "679d91b8f696c729",
   "outputs": [
    {
     "name": "stdout",
     "output_type": "stream",
     "text": [
      "[13  8 16  4  2 15 12 13]\n"
     ]
    }
   ],
   "execution_count": 3
  },
  {
   "metadata": {
    "ExecuteTime": {
     "end_time": "2025-10-26T01:30:48.114233Z",
     "start_time": "2025-10-26T01:30:48.111583Z"
    }
   },
   "cell_type": "code",
   "source": [
    "# sum\n",
    "print(np.sum(arr))"
   ],
   "id": "6e2ec08f9c920ba5",
   "outputs": [
    {
     "name": "stdout",
     "output_type": "stream",
     "text": [
      "83\n"
     ]
    }
   ],
   "execution_count": 4
  },
  {
   "metadata": {
    "ExecuteTime": {
     "end_time": "2025-10-26T01:31:08.432089Z",
     "start_time": "2025-10-26T01:31:08.424730Z"
    }
   },
   "cell_type": "code",
   "source": [
    "# mean\n",
    "print(np.mean(arr))"
   ],
   "id": "10320988de2c7133",
   "outputs": [
    {
     "name": "stdout",
     "output_type": "stream",
     "text": [
      "10.375\n"
     ]
    }
   ],
   "execution_count": 5
  },
  {
   "metadata": {
    "ExecuteTime": {
     "end_time": "2025-10-26T01:31:24.548889Z",
     "start_time": "2025-10-26T01:31:24.542419Z"
    }
   },
   "cell_type": "code",
   "source": [
    "# median\n",
    "print(np.median(arr))"
   ],
   "id": "dd035d61816aba5d",
   "outputs": [
    {
     "name": "stdout",
     "output_type": "stream",
     "text": [
      "12.5\n"
     ]
    }
   ],
   "execution_count": 6
  },
  {
   "metadata": {
    "ExecuteTime": {
     "end_time": "2025-10-26T01:33:22.164175Z",
     "start_time": "2025-10-26T01:33:22.159412Z"
    }
   },
   "cell_type": "code",
   "source": [
    "# sd^2\n",
    "print(np.var(arr))\n",
    "# sd\n",
    "print(np.std(arr))"
   ],
   "id": "172a9e78086e4b2a",
   "outputs": [
    {
     "name": "stdout",
     "output_type": "stream",
     "text": [
      "23.234375\n",
      "4.8202048711647105\n"
     ]
    }
   ],
   "execution_count": 12
  },
  {
   "metadata": {
    "ExecuteTime": {
     "end_time": "2025-10-26T01:32:27.077366Z",
     "start_time": "2025-10-26T01:32:27.073828Z"
    }
   },
   "cell_type": "code",
   "source": [
    "# max\n",
    "print(np.max(arr))"
   ],
   "id": "2bbc7dbad6174918",
   "outputs": [
    {
     "name": "stdout",
     "output_type": "stream",
     "text": [
      "16\n"
     ]
    }
   ],
   "execution_count": 9
  },
  {
   "metadata": {
    "ExecuteTime": {
     "end_time": "2025-10-26T01:32:37.338385Z",
     "start_time": "2025-10-26T01:32:37.332079Z"
    }
   },
   "cell_type": "code",
   "source": [
    "# min\n",
    "print(np.min(arr))"
   ],
   "id": "5229b3cedd98704e",
   "outputs": [
    {
     "name": "stdout",
     "output_type": "stream",
     "text": [
      "2\n"
     ]
    }
   ],
   "execution_count": 10
  },
  {
   "metadata": {
    "ExecuteTime": {
     "end_time": "2025-10-26T01:34:06.926Z",
     "start_time": "2025-10-26T01:34:06.918118Z"
    }
   },
   "cell_type": "code",
   "source": [
    "# percentile\n",
    "print(np.percentile(arr,25)) # 0.25 percentile (Q1)"
   ],
   "id": "d7798d6186e2d167",
   "outputs": [
    {
     "name": "stdout",
     "output_type": "stream",
     "text": [
      "7.0\n"
     ]
    }
   ],
   "execution_count": 13
  },
  {
   "metadata": {
    "ExecuteTime": {
     "end_time": "2025-10-26T01:55:43.705233Z",
     "start_time": "2025-10-26T01:55:43.701868Z"
    }
   },
   "cell_type": "code",
   "source": [
    "# ACCUMULATING sum/product\n",
    "arr = np.array([1,2,3])\n",
    "print(np.sum(arr))\n",
    "print(np.cumsum(arr))"
   ],
   "id": "9f04b8d228805bf8",
   "outputs": [
    {
     "name": "stdout",
     "output_type": "stream",
     "text": [
      "6\n",
      "[1 3 6]\n"
     ]
    }
   ],
   "execution_count": 14
  }
 ],
 "metadata": {
  "kernelspec": {
   "display_name": "Python 3",
   "language": "python",
   "name": "python3"
  },
  "language_info": {
   "codemirror_mode": {
    "name": "ipython",
    "version": 2
   },
   "file_extension": ".py",
   "mimetype": "text/x-python",
   "name": "python",
   "nbconvert_exporter": "python",
   "pygments_lexer": "ipython2",
   "version": "2.7.6"
  }
 },
 "nbformat": 4,
 "nbformat_minor": 5
}
