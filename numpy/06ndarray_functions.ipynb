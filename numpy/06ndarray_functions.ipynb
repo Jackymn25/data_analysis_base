{
 "cells": [
  {
   "metadata": {},
   "cell_type": "markdown",
   "source": "# Functions in ndarray",
   "id": "c8b3d0546ba9b74"
  },
  {
   "metadata": {},
   "cell_type": "markdown",
   "source": "## Math functions",
   "id": "694a0eba7a7cd6c2"
  },
  {
   "metadata": {
    "ExecuteTime": {
     "end_time": "2025-10-26T01:30:21.424350Z",
     "start_time": "2025-10-26T01:30:21.345091Z"
    }
   },
   "cell_type": "code",
   "source": [
    "from email.policy import default\n",
    "\n",
    "import numpy as np\n",
    "arr = np.array([1, 4, 9], dtype=int)\n",
    "# sqrt - > float\n",
    "print(np.sqrt(arr))\n",
    "# exponential e^x\n",
    "arr = np.array([0, 1], dtype=int)\n",
    "print(np.exp(arr))\n",
    "# Ln(x)\n",
    "print(np.log(2.71)) # 2.71 -> e\n",
    "# sin cos\n",
    "print(np.sin(np.pi/6))\n",
    "print(np.cos(np.pi/3))\n",
    "# abs\n",
    "arr = np.array([1,-2,-3])\n",
    "print(np.abs(arr))\n",
    "# a^b\n",
    "print(np.power(arr, 3))\n",
    "# rounding\n",
    "arr = np.array([1.1,-2.4,-.5, 3.5])\n",
    "print(np.round(arr))\n",
    "# ceiling floor\n",
    "print(np.ceil(arr))\n",
    "print(np.floor(arr))"
   ],
   "id": "19ba34e04cc44f39",
   "outputs": [
    {
     "name": "stdout",
     "output_type": "stream",
     "text": [
      "[1. 2. 3.]\n",
      "[1.         2.71828183]\n",
      "0.9969486348916096\n",
      "0.49999999999999994\n",
      "0.5000000000000001\n",
      "[1 2 3]\n",
      "[  1  -8 -27]\n",
      "[ 1. -2. -0.  4.]\n",
      "[ 2. -2. -0.  4.]\n",
      "[ 1. -3. -1.  3.]\n"
     ]
    }
   ],
   "execution_count": 2
  },
  {
   "metadata": {
    "ExecuteTime": {
     "end_time": "2025-10-25T01:03:56.663231Z",
     "start_time": "2025-10-25T01:03:56.659114Z"
    }
   },
   "cell_type": "code",
   "source": [
    "# check for NaN (missing value)\n",
    "np.isnan([1, 2, np.nan, 9])"
   ],
   "id": "ce501c1541db2ceb",
   "outputs": [
    {
     "data": {
      "text/plain": [
       "array([False, False,  True, False])"
      ]
     },
     "execution_count": 18,
     "metadata": {},
     "output_type": "execute_result"
    }
   ],
   "execution_count": 18
  },
  {
   "metadata": {},
   "cell_type": "markdown",
   "source": "## Stats functions",
   "id": "a6fe6da8c6b27d87"
  },
  {
   "metadata": {
    "ExecuteTime": {
     "end_time": "2025-10-26T01:30:23.459525Z",
     "start_time": "2025-10-26T01:30:23.432186Z"
    }
   },
   "cell_type": "code",
   "source": [
    "# sum, mean, median, sd, sd^2, max, min, percentile, ....\n",
    "arr = np.random.randint(1, 20, 8)\n",
    "print(arr)"
   ],
   "id": "679d91b8f696c729",
   "outputs": [
    {
     "name": "stdout",
     "output_type": "stream",
     "text": [
      "[13  8 16  4  2 15 12 13]\n"
     ]
    }
   ],
   "execution_count": 3
  },
  {
   "metadata": {
    "ExecuteTime": {
     "end_time": "2025-10-26T01:30:48.114233Z",
     "start_time": "2025-10-26T01:30:48.111583Z"
    }
   },
   "cell_type": "code",
   "source": [
    "# sum\n",
    "print(np.sum(arr))"
   ],
   "id": "6e2ec08f9c920ba5",
   "outputs": [
    {
     "name": "stdout",
     "output_type": "stream",
     "text": [
      "83\n"
     ]
    }
   ],
   "execution_count": 4
  },
  {
   "metadata": {
    "ExecuteTime": {
     "end_time": "2025-10-26T01:31:08.432089Z",
     "start_time": "2025-10-26T01:31:08.424730Z"
    }
   },
   "cell_type": "code",
   "source": [
    "# mean\n",
    "print(np.mean(arr))"
   ],
   "id": "10320988de2c7133",
   "outputs": [
    {
     "name": "stdout",
     "output_type": "stream",
     "text": [
      "10.375\n"
     ]
    }
   ],
   "execution_count": 5
  },
  {
   "metadata": {
    "ExecuteTime": {
     "end_time": "2025-10-26T01:31:24.548889Z",
     "start_time": "2025-10-26T01:31:24.542419Z"
    }
   },
   "cell_type": "code",
   "source": [
    "# median\n",
    "print(np.median(arr))"
   ],
   "id": "dd035d61816aba5d",
   "outputs": [
    {
     "name": "stdout",
     "output_type": "stream",
     "text": [
      "12.5\n"
     ]
    }
   ],
   "execution_count": 6
  },
  {
   "metadata": {
    "ExecuteTime": {
     "end_time": "2025-10-26T01:33:22.164175Z",
     "start_time": "2025-10-26T01:33:22.159412Z"
    }
   },
   "cell_type": "code",
   "source": [
    "# sd^2\n",
    "print(np.var(arr))\n",
    "# sd\n",
    "print(np.std(arr))"
   ],
   "id": "172a9e78086e4b2a",
   "outputs": [
    {
     "name": "stdout",
     "output_type": "stream",
     "text": [
      "23.234375\n",
      "4.8202048711647105\n"
     ]
    }
   ],
   "execution_count": 12
  },
  {
   "metadata": {
    "ExecuteTime": {
     "end_time": "2025-10-26T01:32:27.077366Z",
     "start_time": "2025-10-26T01:32:27.073828Z"
    }
   },
   "cell_type": "code",
   "source": [
    "# max\n",
    "print(np.max(arr))"
   ],
   "id": "2bbc7dbad6174918",
   "outputs": [
    {
     "name": "stdout",
     "output_type": "stream",
     "text": [
      "16\n"
     ]
    }
   ],
   "execution_count": 9
  },
  {
   "metadata": {
    "ExecuteTime": {
     "end_time": "2025-10-26T01:32:37.338385Z",
     "start_time": "2025-10-26T01:32:37.332079Z"
    }
   },
   "cell_type": "code",
   "source": [
    "# min\n",
    "print(np.min(arr))"
   ],
   "id": "5229b3cedd98704e",
   "outputs": [
    {
     "name": "stdout",
     "output_type": "stream",
     "text": [
      "2\n"
     ]
    }
   ],
   "execution_count": 10
  },
  {
   "metadata": {
    "ExecuteTime": {
     "end_time": "2025-10-26T01:34:06.926Z",
     "start_time": "2025-10-26T01:34:06.918118Z"
    }
   },
   "cell_type": "code",
   "source": [
    "# percentile\n",
    "print(np.percentile(arr,25)) # 0.25 percentile (Q1)"
   ],
   "id": "d7798d6186e2d167",
   "outputs": [
    {
     "name": "stdout",
     "output_type": "stream",
     "text": [
      "7.0\n"
     ]
    }
   ],
   "execution_count": 13
  },
  {
   "metadata": {
    "ExecuteTime": {
     "end_time": "2025-10-26T01:55:43.705233Z",
     "start_time": "2025-10-26T01:55:43.701868Z"
    }
   },
   "cell_type": "code",
   "source": [
    "# ACCUMULATING sum/product\n",
    "arr = np.array([1,2,3])\n",
    "print(np.sum(arr))\n",
    "print(np.cumsum(arr))"
   ],
   "id": "9f04b8d228805bf8",
   "outputs": [
    {
     "name": "stdout",
     "output_type": "stream",
     "text": [
      "6\n",
      "[1 3 6]\n"
     ]
    }
   ],
   "execution_count": 14
  },
  {
   "metadata": {},
   "cell_type": "markdown",
   "source": "## Comparing functions",
   "id": "cdf6545528d08ec0"
  },
  {
   "metadata": {
    "ExecuteTime": {
     "end_time": "2025-10-26T01:58:40.020863Z",
     "start_time": "2025-10-26T01:58:40.012199Z"
    }
   },
   "cell_type": "code",
   "source": [
    "# > < =\n",
    "print(np.greater([2,3,4,4,5], 3))\n",
    "print(np.less([2,3,4,4,5], 3))\n",
    "print(np.equal([2,3,4,4,5], 3))"
   ],
   "id": "52ff3159f4e27661",
   "outputs": [
    {
     "name": "stdout",
     "output_type": "stream",
     "text": [
      "[False False  True  True  True]\n",
      "[ True False False False False]\n",
      "[False  True False False False]\n"
     ]
    }
   ],
   "execution_count": 16
  },
  {
   "metadata": {
    "ExecuteTime": {
     "end_time": "2025-10-26T01:59:51.183198Z",
     "start_time": "2025-10-26T01:59:51.179658Z"
    }
   },
   "cell_type": "code",
   "source": "print(np.equal([2, 3, 4], [2, 4, 4]))",
   "id": "7a2a5252f5bb8c10",
   "outputs": [
    {
     "name": "stdout",
     "output_type": "stream",
     "text": [
      "[ True False  True]\n"
     ]
    }
   ],
   "execution_count": 19
  },
  {
   "metadata": {
    "ExecuteTime": {
     "end_time": "2025-10-26T02:01:19.173625Z",
     "start_time": "2025-10-26T02:01:19.171119Z"
    }
   },
   "cell_type": "code",
   "source": [
    "# # or and not\n",
    "print(np.logical_and([1, 0], [1, 1]))\n",
    "# replace and with or, not"
   ],
   "id": "b61f4fb00c3d007d",
   "outputs": [
    {
     "name": "stdout",
     "output_type": "stream",
     "text": [
      "[ True False]\n"
     ]
    }
   ],
   "execution_count": 21
  },
  {
   "metadata": {
    "ExecuteTime": {
     "end_time": "2025-10-26T02:02:08.145006Z",
     "start_time": "2025-10-26T02:02:08.139429Z"
    }
   },
   "cell_type": "code",
   "source": [
    "# any, all\n",
    "print(np.any([0, 0, 0, 1]))\n",
    "print(np.all([1, 1, 1, 0]))"
   ],
   "id": "19352844edda7f24",
   "outputs": [
    {
     "name": "stdout",
     "output_type": "stream",
     "text": [
      "True\n",
      "False\n"
     ]
    }
   ],
   "execution_count": 23
  },
  {
   "metadata": {
    "ExecuteTime": {
     "end_time": "2025-10-26T02:11:37.889514Z",
     "start_time": "2025-10-26T02:11:37.884792Z"
    }
   },
   "cell_type": "code",
   "source": [
    "# customized conditions\n",
    "arr = np.array([1, 2, 3, 4 ,5])\n",
    "print(np.where(arr<3,1,0))\n",
    "# classify example\n",
    "score = np.random.randint(0, 100, 20)\n",
    "print(score)\n",
    "print(np.where(score<50, \"Fail\",\n",
    "               np.where(score<85, \"Pass\", \"4.0\")))\n",
    "# ALTERNATIVE WAY\n",
    "print(np.select([score < 50, (score>=50) & (score<85), score>=85],\n",
    "                ['fail', 'pass', '4.0'],\n",
    "                default = 'unknwon'))"
   ],
   "id": "642320fcb710015",
   "outputs": [
    {
     "name": "stdout",
     "output_type": "stream",
     "text": [
      "[1 1 0 0 0]\n",
      "[39 17 59 37 18 89 18 60 73 55 99 84 83 24 51 61 48  5 61 15]\n",
      "['Fail' 'Fail' 'Pass' 'Fail' 'Fail' '4.0' 'Fail' 'Pass' 'Pass' 'Pass'\n",
      " '4.0' 'Pass' 'Pass' 'Fail' 'Pass' 'Pass' 'Fail' 'Fail' 'Pass' 'Fail']\n",
      "['fail' 'fail' 'pass' 'fail' 'fail' '4.0' 'fail' 'pass' 'pass' 'pass'\n",
      " '4.0' 'pass' 'pass' 'fail' 'pass' 'pass' 'fail' 'fail' 'pass' 'fail']\n"
     ]
    }
   ],
   "execution_count": 29
  }
 ],
 "metadata": {
  "kernelspec": {
   "display_name": "Python 3",
   "language": "python",
   "name": "python3"
  },
  "language_info": {
   "codemirror_mode": {
    "name": "ipython",
    "version": 2
   },
   "file_extension": ".py",
   "mimetype": "text/x-python",
   "name": "python",
   "nbconvert_exporter": "python",
   "pygments_lexer": "ipython2",
   "version": "2.7.6"
  }
 },
 "nbformat": 4,
 "nbformat_minor": 5
}
